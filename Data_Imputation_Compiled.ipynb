{
  "nbformat": 4,
  "nbformat_minor": 0,
  "metadata": {
    "colab": {
      "name": "Data_Imputation_Compiled.ipynb",
      "provenance": [],
      "collapsed_sections": [
        "CnylhWa-UDt1",
        "A9hYkEUvQmn0",
        "FRMj3Sp1eyEk",
        "ki-w2wLyYvTs",
        "bu_TH0VMeBwP",
        "VwyeKokStQIB"
      ],
      "include_colab_link": true
    },
    "kernelspec": {
      "display_name": "Python 3",
      "name": "python3"
    },
    "language_info": {
      "name": "python"
    },
    "widgets": {
      "application/vnd.jupyter.widget-state+json": {
        "762c566357fc4bbab33a279a054c8818": {
          "model_module": "@jupyter-widgets/controls",
          "model_name": "VBoxModel",
          "model_module_version": "1.5.0",
          "state": {
            "_view_name": "VBoxView",
            "_dom_classes": [],
            "_model_name": "VBoxModel",
            "_view_module": "@jupyter-widgets/controls",
            "_model_module_version": "1.5.0",
            "_view_count": null,
            "_view_module_version": "1.5.0",
            "box_style": "",
            "layout": "IPY_MODEL_c68bd678395147cdb78678cc380a99fc",
            "_model_module": "@jupyter-widgets/controls",
            "children": [
              "IPY_MODEL_f1615e2f851142ac9e0be078c65bee56",
              "IPY_MODEL_b32736001cc84b5d801c2b2823b76c89"
            ]
          }
        },
        "c68bd678395147cdb78678cc380a99fc": {
          "model_module": "@jupyter-widgets/base",
          "model_name": "LayoutModel",
          "model_module_version": "1.2.0",
          "state": {
            "_view_name": "LayoutView",
            "grid_template_rows": null,
            "right": null,
            "justify_content": null,
            "_view_module": "@jupyter-widgets/base",
            "overflow": null,
            "_model_module_version": "1.2.0",
            "_view_count": null,
            "flex_flow": null,
            "width": null,
            "min_width": null,
            "border": null,
            "align_items": null,
            "bottom": null,
            "_model_module": "@jupyter-widgets/base",
            "top": null,
            "grid_column": null,
            "overflow_y": null,
            "overflow_x": null,
            "grid_auto_flow": null,
            "grid_area": null,
            "grid_template_columns": null,
            "flex": null,
            "_model_name": "LayoutModel",
            "justify_items": null,
            "grid_row": null,
            "max_height": null,
            "align_content": null,
            "visibility": null,
            "align_self": null,
            "height": null,
            "min_height": null,
            "padding": null,
            "grid_auto_rows": null,
            "grid_gap": null,
            "max_width": null,
            "order": null,
            "_view_module_version": "1.2.0",
            "grid_template_areas": null,
            "object_position": null,
            "object_fit": null,
            "grid_auto_columns": null,
            "margin": null,
            "display": null,
            "left": null
          }
        },
        "f1615e2f851142ac9e0be078c65bee56": {
          "model_module": "@jupyter-widgets/controls",
          "model_name": "TextModel",
          "model_module_version": "1.5.0",
          "state": {
            "_view_name": "TextView",
            "style": "IPY_MODEL_6db938b011c4440f88ef2f0805670e5e",
            "_dom_classes": [],
            "description": "File path:",
            "_model_name": "TextModel",
            "placeholder": "File path to Satellite Data",
            "_view_module": "@jupyter-widgets/controls",
            "_model_module_version": "1.5.0",
            "value": "/content/drive/MyDrive/Groundwater_Imputation_-_Satellite_Data",
            "_view_count": null,
            "disabled": false,
            "_view_module_version": "1.5.0",
            "continuous_update": true,
            "description_tooltip": null,
            "_model_module": "@jupyter-widgets/controls",
            "layout": "IPY_MODEL_af0761ad79954b3fa31db3fb297fd9d3"
          }
        },
        "b32736001cc84b5d801c2b2823b76c89": {
          "model_module": "@jupyter-widgets/controls",
          "model_name": "ButtonModel",
          "model_module_version": "1.5.0",
          "state": {
            "_view_name": "ButtonView",
            "style": "IPY_MODEL_fd6277d5f7534bb9861327a8accac19d",
            "_dom_classes": [],
            "description": "Save",
            "_model_name": "ButtonModel",
            "button_style": "",
            "_view_module": "@jupyter-widgets/controls",
            "_model_module_version": "1.5.0",
            "tooltip": "",
            "_view_count": null,
            "disabled": false,
            "_view_module_version": "1.5.0",
            "layout": "IPY_MODEL_7d626df0e830438883583c2fa2ef2b4b",
            "_model_module": "@jupyter-widgets/controls",
            "icon": ""
          }
        },
        "6db938b011c4440f88ef2f0805670e5e": {
          "model_module": "@jupyter-widgets/controls",
          "model_name": "DescriptionStyleModel",
          "model_module_version": "1.5.0",
          "state": {
            "_view_name": "StyleView",
            "_model_name": "DescriptionStyleModel",
            "description_width": "",
            "_view_module": "@jupyter-widgets/base",
            "_model_module_version": "1.5.0",
            "_view_count": null,
            "_view_module_version": "1.2.0",
            "_model_module": "@jupyter-widgets/controls"
          }
        },
        "af0761ad79954b3fa31db3fb297fd9d3": {
          "model_module": "@jupyter-widgets/base",
          "model_name": "LayoutModel",
          "model_module_version": "1.2.0",
          "state": {
            "_view_name": "LayoutView",
            "grid_template_rows": null,
            "right": null,
            "justify_content": null,
            "_view_module": "@jupyter-widgets/base",
            "overflow": null,
            "_model_module_version": "1.2.0",
            "_view_count": null,
            "flex_flow": null,
            "width": null,
            "min_width": null,
            "border": null,
            "align_items": null,
            "bottom": null,
            "_model_module": "@jupyter-widgets/base",
            "top": null,
            "grid_column": null,
            "overflow_y": null,
            "overflow_x": null,
            "grid_auto_flow": null,
            "grid_area": null,
            "grid_template_columns": null,
            "flex": null,
            "_model_name": "LayoutModel",
            "justify_items": null,
            "grid_row": null,
            "max_height": null,
            "align_content": null,
            "visibility": null,
            "align_self": null,
            "height": null,
            "min_height": null,
            "padding": null,
            "grid_auto_rows": null,
            "grid_gap": null,
            "max_width": null,
            "order": null,
            "_view_module_version": "1.2.0",
            "grid_template_areas": null,
            "object_position": null,
            "object_fit": null,
            "grid_auto_columns": null,
            "margin": null,
            "display": null,
            "left": null
          }
        },
        "fd6277d5f7534bb9861327a8accac19d": {
          "model_module": "@jupyter-widgets/controls",
          "model_name": "ButtonStyleModel",
          "model_module_version": "1.5.0",
          "state": {
            "_view_name": "StyleView",
            "_model_name": "ButtonStyleModel",
            "_view_module": "@jupyter-widgets/base",
            "_model_module_version": "1.5.0",
            "_view_count": null,
            "button_color": null,
            "font_weight": "",
            "_view_module_version": "1.2.0",
            "_model_module": "@jupyter-widgets/controls"
          }
        },
        "7d626df0e830438883583c2fa2ef2b4b": {
          "model_module": "@jupyter-widgets/base",
          "model_name": "LayoutModel",
          "model_module_version": "1.2.0",
          "state": {
            "_view_name": "LayoutView",
            "grid_template_rows": null,
            "right": null,
            "justify_content": null,
            "_view_module": "@jupyter-widgets/base",
            "overflow": null,
            "_model_module_version": "1.2.0",
            "_view_count": null,
            "flex_flow": null,
            "width": null,
            "min_width": null,
            "border": null,
            "align_items": null,
            "bottom": null,
            "_model_module": "@jupyter-widgets/base",
            "top": null,
            "grid_column": null,
            "overflow_y": null,
            "overflow_x": null,
            "grid_auto_flow": null,
            "grid_area": null,
            "grid_template_columns": null,
            "flex": null,
            "_model_name": "LayoutModel",
            "justify_items": null,
            "grid_row": null,
            "max_height": null,
            "align_content": null,
            "visibility": null,
            "align_self": null,
            "height": null,
            "min_height": null,
            "padding": null,
            "grid_auto_rows": null,
            "grid_gap": null,
            "max_width": null,
            "order": null,
            "_view_module_version": "1.2.0",
            "grid_template_areas": null,
            "object_position": null,
            "object_fit": null,
            "grid_auto_columns": null,
            "margin": null,
            "display": null,
            "left": null
          }
        }
      }
    }
  },
  "cells": [
    {
      "cell_type": "markdown",
      "metadata": {
        "id": "view-in-github",
        "colab_type": "text"
      },
      "source": [
        "<a href=\"https://colab.research.google.com/github/rennishi7/Well_Imputation/blob/master/Data_Imputation_Compiled.ipynb\" target=\"_parent\"><img src=\"https://colab.research.google.com/assets/colab-badge.svg\" alt=\"Open In Colab\"/></a>"
      ]
    },
    {
      "cell_type": "markdown",
      "metadata": {
        "id": "j9-H6ZuyrAiV"
      },
      "source": [
        "# Groundwater Data Imputation and Interpolation Script\n",
        "\n",
        "#####This notebook contains a machine learning algorithm designed to impute data within a set of groundwater wells. The data can then be spatially interpolated to create a groundwater surface raster. Finally, a storage depletion curve can be calculated.\n",
        "\n",
        "#####It requires as input: \n",
        "* an aquifer shapefile\n",
        "* well locations and observational measurements\n",
        "* PDSI and GLDAS datasets (link in script)\n",
        "\n",
        "##### You will also need access to a Google Drive account.\n",
        "\n"
      ]
    },
    {
      "cell_type": "markdown",
      "metadata": {
        "id": "FxDo4GU2vewJ"
      },
      "source": [
        "---"
      ]
    },
    {
      "cell_type": "markdown",
      "metadata": {
        "id": "aXR9V-aMAHSH"
      },
      "source": [
        "<a name=\"loadUtils\"></a>\n",
        "## **Step 0: Load packages and files**\n",
        "*This section should be run whenever a new session is started.*"
      ]
    },
    {
      "cell_type": "markdown",
      "metadata": {
        "id": "6XsyPlj1kN7m"
      },
      "source": [
        "### <font color='dimgray'>Install and load packages and utility files</font>"
      ]
    },
    {
      "cell_type": "code",
      "metadata": {
        "id": "qEF5D6qEUOp0"
      },
      "source": [
        "#@markdown ### **Run this cell to install the proper packages**\n",
        "# Creating Environment 1: Spatial (Should handle steps 1-5)\n",
        "%%capture\n",
        "!pip install fiona\n",
        "!pip install rasterio\n",
        "!pip install h5py\n",
        "!pip install geopandas\n",
        "!pip install grids\n",
        "!pip install scikit-learn\n",
        "!pip install EMD-signal\n",
        "!pip install tables\n",
        "!pip install pickle5\n",
        "!pip install gstools"
      ],
      "execution_count": null,
      "outputs": []
    },
    {
      "cell_type": "code",
      "metadata": {
        "id": "RXTgGgNn01yY"
      },
      "source": [
        "#@markdown ### **Run this cell to import all necessary packages to the session**\n",
        "\n",
        "from google.colab import files\n",
        "import os\n",
        "import ipywidgets as widgets\n",
        "import shutil\n",
        "import pandas as pd\n",
        "import geopandas as gpd\n",
        "import matplotlib.pyplot as plt\n",
        "from PyEMD import EEMD\n",
        "import ee\n",
        "import numpy as np\n",
        "import math\n",
        "import sys\n",
        "import datetime\n",
        "import pickle\n",
        "import netCDF4 as nc"
      ],
      "execution_count": null,
      "outputs": []
    },
    {
      "cell_type": "code",
      "metadata": {
        "id": "tziKWwJ51wAX",
        "colab": {
          "base_uri": "https://localhost:8080/"
        },
        "outputId": "c25ed23e-4199-458e-d1c0-6b00ab54b4b8"
      },
      "source": [
        "#@markdown ### **Run this cell to import the utility files from Github**\n",
        "\n",
        "# Importing utility files from github\n",
        "import requests\n",
        "#usd_url = 'https://raw.githubusercontent.com/rennishi7/Well_Imputation/master/Master%20Code/utils_satellite_data.py'\n",
        "usd_url ='https://raw.githubusercontent.com/Saul-the-engineer/Well_Imputation/master/Master%20Code/utils_satellite_data.py'\n",
        "#wf_url = 'https://raw.githubusercontent.com/rennishi7/Well_Imputation/master/Master%20Code/utils_well_data.py'\n",
        "wf_url = 'https://raw.githubusercontent.com/Saul-the-engineer/Well_Imputation/master/Master%20Code/utils_well_data.py'\n",
        "da_url = 'https://raw.githubusercontent.com/Saul-the-engineer/Well_Imputation/master/Master%20Code/utils_data_augmentation.py'\n",
        "ml_url = 'https://raw.githubusercontent.com/Saul-the-engineer/Well_Imputation/master/Master%20Code/utils_machine_learning.py'\n",
        "sp_url = 'https://raw.githubusercontent.com/Saul-the-engineer/Well_Imputation/master/Master%20Code/utils_spatial.py'\n",
        "url_set = [usd_url, wf_url, da_url, ml_url, sp_url]\n",
        "\n",
        "# Load the utility files into the session\n",
        "for url in url_set:\n",
        "  r = requests.get(url)\n",
        "  with open(url.rsplit('/', 1)[-1], 'w') as f:\n",
        "    f.write(r.text)\n",
        "\n",
        "import utils_satellite_data as usd\n",
        "import utils_well_data as wf \n",
        "import utils_data_augmentation\n",
        "import utils_machine_learning\n",
        "import utils_spatial"
      ],
      "execution_count": null,
      "outputs": [
        {
          "output_type": "stream",
          "name": "stderr",
          "text": [
            "/usr/local/lib/python3.7/dist-packages/xarray/backends/cfgrib_.py:28: UserWarning: Failed to load cfgrib - most likely there is a problem accessing the ecCodes library. Try `import cfgrib` to get the full error message\n",
            "  \"Failed to load cfgrib - most likely there is a problem accessing the ecCodes library. \"\n"
          ]
        }
      ]
    },
    {
      "cell_type": "markdown",
      "metadata": {
        "id": "ebeU-EWMU4pa"
      },
      "source": [
        "### <font color='dimgray'>Load aquifer shapefile</font>"
      ]
    },
    {
      "cell_type": "code",
      "metadata": {
        "id": "lEIIB4kRU1Za",
        "colab": {
          "resources": {
            "http://localhost:8080/nbextensions/google.colab/files.js": {
              "data": "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",
              "ok": true,
              "headers": [
                [
                  "content-type",
                  "application/javascript"
                ]
              ],
              "status": 200,
              "status_text": ""
            }
          },
          "base_uri": "https://localhost:8080/",
          "height": 208
        },
        "outputId": "c86dfcb0-55e4-41bf-b287-3c82c7c4ead1"
      },
      "source": [
        "#@markdown ### **Run this cell to load the aquifers shapefile**\n",
        "\n",
        "print(\"Upload the aquifer shapefile files (including .shp, .shx, and .dbf):\\n\")\n",
        "uploaded = files.upload()\n",
        "!mkdir Aquifer_Shapes Aquifers_Data Datasets\n",
        "for aqFile in uploaded.keys():\n",
        "  os.rename('/content/'+aqFile,'/content/Aquifer_Shapes/'+aqFile)"
      ],
      "execution_count": null,
      "outputs": [
        {
          "output_type": "stream",
          "name": "stdout",
          "text": [
            "Upload the aquifer shapefile files (including .shp, .shx, and .dbf):\n",
            "\n"
          ]
        },
        {
          "output_type": "display_data",
          "data": {
            "text/html": [
              "\n",
              "     <input type=\"file\" id=\"files-b98718be-f1bf-4d80-aa74-f2a2b63bdd9c\" name=\"files[]\" multiple disabled\n",
              "        style=\"border:none\" />\n",
              "     <output id=\"result-b98718be-f1bf-4d80-aa74-f2a2b63bdd9c\">\n",
              "      Upload widget is only available when the cell has been executed in the\n",
              "      current browser session. Please rerun this cell to enable.\n",
              "      </output>\n",
              "      <script src=\"/nbextensions/google.colab/files.js\"></script> "
            ],
            "text/plain": [
              "<IPython.core.display.HTML object>"
            ]
          },
          "metadata": {}
        },
        {
          "output_type": "stream",
          "name": "stdout",
          "text": [
            "Saving CA_118_GW_Basins-1_Aquifer.dbf to CA_118_GW_Basins-1_Aquifer.dbf\n",
            "Saving CA_118_GW_Basins-1_Aquifer.prj to CA_118_GW_Basins-1_Aquifer.prj\n",
            "Saving CA_118_GW_Basins-1_Aquifer.shp to CA_118_GW_Basins-1_Aquifer.shp\n",
            "Saving CA_118_GW_Basins-1_Aquifer.shx to CA_118_GW_Basins-1_Aquifer.shx\n"
          ]
        }
      ]
    },
    {
      "cell_type": "markdown",
      "metadata": {
        "id": "A0u6YC2lfQcs"
      },
      "source": [
        "---"
      ]
    },
    {
      "cell_type": "markdown",
      "metadata": {
        "id": "9QVhD6Rzahuz"
      },
      "source": [
        "## **Table of Contents**\n",
        "Follow links to jump to specific sections\n",
        "\n",
        "* [Step 0: Load packages and files](#loadUtils)\n",
        "* [Step 1: Satellite Data Preparation](#satData)\n",
        "* [Step 2: Prepare Wells Data for Imputation](#prep)\n",
        "* [Step 3: Impute Data](#impute)\n",
        "* [Step 4: Spatial Interpolation](#spatial)\n",
        "* [Step 5: Storage Depletion Calculation](#storage)"
      ]
    },
    {
      "cell_type": "markdown",
      "metadata": {
        "id": "CnylhWa-UDt1"
      },
      "source": [
        "<a name=\"satData\"></a>\n",
        "## **Step 1: Satellite Data Preparation**"
      ]
    },
    {
      "cell_type": "markdown",
      "metadata": {
        "id": "She9ocNPCSDs"
      },
      "source": [
        "**The PDSI and GLDAS datasets are provided via a shared Google Drive folder, found here:**\n",
        "https://drive.google.com/drive/folders/1hSN6gkp9zmFYUwMOdDIj8pa-KqBjN8JW?usp=sharing\n",
        "\n",
        "*You should save a shortcut to your own Google Drive and then determine the file path to the folder.*"
      ]
    },
    {
      "cell_type": "code",
      "metadata": {
        "id": "KH2SF13W5vgF",
        "colab": {
          "base_uri": "https://localhost:8080/"
        },
        "outputId": "f4e3bb36-5a82-48cf-c46c-3b73ac3af379"
      },
      "source": [
        "#@markdown ### **Run this cell to mount your Google Drive to access PDSI and GLDAS files**\n",
        "from google.colab import drive\n",
        "print(\"FOLLOW THE URL LINK BELOW\\n\")\n",
        "drive.mount('/content/drive')"
      ],
      "execution_count": null,
      "outputs": [
        {
          "output_type": "stream",
          "name": "stdout",
          "text": [
            "FOLLOW THE URL LINK BELOW\n",
            "\n",
            "Mounted at /content/drive\n"
          ]
        }
      ]
    },
    {
      "cell_type": "markdown",
      "metadata": {
        "id": "A9hYkEUvQmn0"
      },
      "source": [
        "### <font color='dimgray'>PDSI Data Prep</font>"
      ]
    },
    {
      "cell_type": "code",
      "metadata": {
        "id": "3GDYu9nLTNjR",
        "colab": {
          "base_uri": "https://localhost:8080/",
          "height": 166,
          "referenced_widgets": [
            "762c566357fc4bbab33a279a054c8818",
            "c68bd678395147cdb78678cc380a99fc",
            "f1615e2f851142ac9e0be078c65bee56",
            "b32736001cc84b5d801c2b2823b76c89",
            "6db938b011c4440f88ef2f0805670e5e",
            "af0761ad79954b3fa31db3fb297fd9d3",
            "fd6277d5f7534bb9861327a8accac19d",
            "7d626df0e830438883583c2fa2ef2b4b"
          ]
        },
        "outputId": "822730b1-b308-4a2d-efb5-19cf00c20db0"
      },
      "source": [
        "#@markdown ### **Run the cell and define the path to the Satellite Data * folder ***\n",
        "\n",
        "def saveText(button):\n",
        "  global satDataPath\n",
        "  satDataPath = satDataPath_widget.value\n",
        "  print('\\rPath to Groundwater_Imputation_-_Satellite_Data FOLDER (not an individual file): \"%s\"' %(satDataPath), end='')\n",
        "\n",
        "satDataPath_widget = widgets.Text(placeholder='File path to Satellite Data', description='File path:', disabled=False)\n",
        "button = widgets.Button(description='Save', disabled=False)\n",
        "button.on_click(saveText)\n",
        "print('File path to Groundwater_Imputation_-_Satellite_Data folder (e.g. /content/drive/MyDrive/Groundwater_Imputation_-_Satellite_Data)\\n\\n(Tip: you can navigate to the folder on your Google Drive from the \"Files\" panel on the left and click on the three dots next to the folder and select \"Copy path\")\\n')\n",
        "widgets.VBox([satDataPath_widget, button])"
      ],
      "execution_count": null,
      "outputs": [
        {
          "output_type": "stream",
          "name": "stdout",
          "text": [
            "File path to Groundwater_Imputation_-_Satellite_Data folder (e.g. /content/drive/MyDrive/Groundwater_Imputation_-_Satellite_Data)\n",
            "\n",
            "(Tip: you can navigate to the folder on your Google Drive from the \"Files\" panel on the left and click on the three dots next to the folder and select \"Copy path\")\n",
            "\n"
          ]
        },
        {
          "output_type": "display_data",
          "data": {
            "application/vnd.jupyter.widget-view+json": {
              "model_id": "762c566357fc4bbab33a279a054c8818",
              "version_minor": 0,
              "version_major": 2
            },
            "text/plain": [
              "VBox(children=(Text(value='', description='File path:', placeholder='File path to Satellite Data'), Button(des…"
            ]
          },
          "metadata": {}
        },
        {
          "output_type": "stream",
          "name": "stdout",
          "text": [
            "\rPath to Groundwater_Imputation_-_Satellite_Data FOLDER (not an individual file): \"/content/drive/MyDrive/Groundwater_Imputation_-_Satellite_Data\""
          ]
        }
      ]
    },
    {
      "cell_type": "code",
      "metadata": {
        "id": "G9EODt_3vhw_",
        "colab": {
          "base_uri": "https://localhost:8080/"
        },
        "outputId": "b328358a-e29d-4a5a-c1ed-12b82aff5dad"
      },
      "source": [
        "#@markdown ### **Run this cell to parse the PDSI data**\n",
        "\n",
        "# Purpose of this script is to: \n",
        "# 1) Create a grid in the likeness of the netcdf we're interested in querying.\n",
        "# 2) Using the grid, identify which cells are located within a shape file boundary.\n",
        "# 3) Use the grids package, and to query the time series, for the variables and cells\n",
        "#    the user has specified.\n",
        "# 4) Save data as a pickle file.\n",
        "\n",
        "# Set data location. If location does not exist, class initialization will create it.\n",
        "data_root = '/content/Datasets/'\n",
        "#ts_date_start = '1850-01-01'\n",
        "ts_date_start = '1948-01-01'\n",
        "\n",
        "# Class initialization, imports methods and creates data_root if it doesn't exist.\n",
        "utils = usd.utils_netCDF(data_root)\n",
        "# Create grid based on netcdf metadata. Inputs are NE_lat, SW_lat, NE_lon, SW_lon\n",
        "# x resolution, and y resolution. Calculates the centroids.\n",
        "grid = utils.netCDF_Grid_Creation(77.5, -60.0, 180.0, -180.0, 2.5, 2.5)\n",
        "# Loads shape file and obtains bounding box coordinates.\n",
        "bounds = utils.Shape_Boundary('/content/Aquifer_Shapes/' + aqFile[:-4] + '.shp')\n",
        "# Loop through grid determining if centroid is within shape boundary. Returns \n",
        "# boolean. Hyper-paramters include buffering and padding. Buffer is half cell size\n",
        "# used to make sure approproate cells are captured.\n",
        "cell_names = utils.Find_intercepting_cells(grid, bounds)\n",
        "# Select intercepting cells from dictionary.\n",
        "mask = utils.Cell_Mask(cell_names, grid)\n",
        "# Create index from starting date until X weeks from present day.\n",
        "dates = utils.Date_Index_Creation(ts_date_start)\n",
        "\n",
        "# The grids_netCDF class is used to handle either the GLDAS or SC PDSI PM dataset\n",
        "# The file structures are very different. Areas that have missing values, GLDAS\n",
        "# will treat as NAN, while pdsi treats as mask 'None'. PDSI is a single variable file\n",
        "# while GLDAS is a multi-variable file per month.\n",
        "\n",
        "# File_String refers to the data being located with a single string, or list of strings\n",
        "# Variable String, referes to the variables being within a string or text file.\n",
        "parse = usd.grids_netCDF(File_String=True, Variable_String=True)\n",
        "\n",
        "#====================================================================\n",
        "# Location of single netCDF file.\n",
        "#data_path = satDataPath + '/PDSI/sc_PDSI_pm/pdsisc.monthly.maps.1850-2018.fawc-1.r2.5x2.5.ipe-2.nc'\n",
        "data_path = satDataPath + '/PDSI/sc_PDSI_pm/pdsi_ramirez_hales_williams.nc4'\n",
        "#====================================================================\n",
        "\n",
        "# Name of variables of interest within file.\n",
        "#variables = 'sc_PDSI_pm'\n",
        "variables = 'pdsi_filled'\n",
        "\n",
        "# Parse_Data is a nested loop using the grids python package. For every cell, grabs\n",
        "# every specified variable. Then parses the variable assigning it to the correct cell\n",
        "# For PDSI use Mask, dates, data_path, and variable name.\n",
        "# For GLDAS use Mask, dates, data_folder, file_list, variables_list\n",
        "\n",
        "#   Mask: dictionary with locations. \n",
        "#   dates: datetimeindex, used to index dataframe\n",
        "#   data_path: Location of netcdf if it is a single file, else None\n",
        "#   data_folder: The folder containing the individual netcdf files.\n",
        "#   file_list: variable string=False, text file location with netcdf names\n",
        "#   variable_name: Names of variables wanted parse.\n",
        "#   variables_list: location of file with variable names. \n",
        "\n",
        "Data = parse.Parse_Data(mask, dates, data_path = data_path, variable_name=variables)\n",
        "\n",
        "# Validates that all data exists, removes nans and Nones from time series,\n",
        "# as well as the location dataframe.\n",
        "Data = parse.Validate_Data(mask, Data)\n",
        "print(Data.keys())\n",
        "# Final Save.\n",
        "utils.Save_Pickle(Data,'PDSI_Data', data_root)\n",
        "print('Success!')"
      ],
      "execution_count": null,
      "outputs": [
        {
          "output_type": "stream",
          "name": "stdout",
          "text": [
            "Starting Cell Selection...\n",
            "Cells Found.\n",
            "Loading netCDF location.\n",
            "Creating Variables\n",
            "Variable List Made.\n",
            "Preparing to parse Data.\n",
            "Working on pdsi_filled 1/1\n",
            "Parsing Cell_2198 1/9\n",
            "Parsing Cell_2199 2/9\n",
            "Parsing Cell_2200 3/9\n",
            "Parsing Cell_2343 4/9\n",
            "Parsing Cell_2344 5/9\n",
            "Parsing Cell_2345 6/9\n",
            "Parsing Cell_2488 7/9\n",
            "Parsing Cell_2489 8/9\n",
            "Parsing Cell_2490 9/9\n",
            "Validating Data.\n",
            "Removed Cell Cell_2343\n",
            "Removed Cell Cell_2488\n",
            "Data Validated.\n",
            "dict_keys(['Cell_2198', 'Cell_2199', 'Cell_2200', 'Cell_2344', 'Cell_2345', 'Cell_2489', 'Cell_2490', 'Location'])\n",
            "Success!\n"
          ]
        }
      ]
    },
    {
      "cell_type": "code",
      "metadata": {
        "colab": {
          "base_uri": "https://localhost:8080/",
          "height": 17
        },
        "id": "IyNuKXYoVoEp",
        "outputId": "93911ac2-a572-4d1d-fa7b-0cd94de9c9c1"
      },
      "source": [
        "#@markdown ### **(Optional) Run this cell to download PDSI pickle files to local machine**\n",
        "#@markdown ##### *You may have to [allow colab to download multiple files at a time](#download)*\n",
        "files.download('/content/Datasets/PDSI_Data.pickle')\n",
        "files.download('/content/Datasets/PDSI_Data_Not_Validated.pickle')"
      ],
      "execution_count": null,
      "outputs": [
        {
          "data": {
            "application/javascript": [
              "\n",
              "    async function download(id, filename, size) {\n",
              "      if (!google.colab.kernel.accessAllowed) {\n",
              "        return;\n",
              "      }\n",
              "      const div = document.createElement('div');\n",
              "      const label = document.createElement('label');\n",
              "      label.textContent = `Downloading \"${filename}\": `;\n",
              "      div.appendChild(label);\n",
              "      const progress = document.createElement('progress');\n",
              "      progress.max = size;\n",
              "      div.appendChild(progress);\n",
              "      document.body.appendChild(div);\n",
              "\n",
              "      const buffers = [];\n",
              "      let downloaded = 0;\n",
              "\n",
              "      const channel = await google.colab.kernel.comms.open(id);\n",
              "      // Send a message to notify the kernel that we're ready.\n",
              "      channel.send({})\n",
              "\n",
              "      for await (const message of channel.messages) {\n",
              "        // Send a message to notify the kernel that we're ready.\n",
              "        channel.send({})\n",
              "        if (message.buffers) {\n",
              "          for (const buffer of message.buffers) {\n",
              "            buffers.push(buffer);\n",
              "            downloaded += buffer.byteLength;\n",
              "            progress.value = downloaded;\n",
              "          }\n",
              "        }\n",
              "      }\n",
              "      const blob = new Blob(buffers, {type: 'application/binary'});\n",
              "      const a = document.createElement('a');\n",
              "      a.href = window.URL.createObjectURL(blob);\n",
              "      a.download = filename;\n",
              "      div.appendChild(a);\n",
              "      a.click();\n",
              "      div.remove();\n",
              "    }\n",
              "  "
            ],
            "text/plain": [
              "<IPython.core.display.Javascript object>"
            ]
          },
          "metadata": {},
          "output_type": "display_data"
        },
        {
          "data": {
            "application/javascript": [
              "download(\"download_c23cced6-3af6-416e-adff-f673e48c8711\", \"PDSI_Data.pickle\", 205002)"
            ],
            "text/plain": [
              "<IPython.core.display.Javascript object>"
            ]
          },
          "metadata": {},
          "output_type": "display_data"
        },
        {
          "data": {
            "application/javascript": [
              "\n",
              "    async function download(id, filename, size) {\n",
              "      if (!google.colab.kernel.accessAllowed) {\n",
              "        return;\n",
              "      }\n",
              "      const div = document.createElement('div');\n",
              "      const label = document.createElement('label');\n",
              "      label.textContent = `Downloading \"${filename}\": `;\n",
              "      div.appendChild(label);\n",
              "      const progress = document.createElement('progress');\n",
              "      progress.max = size;\n",
              "      div.appendChild(progress);\n",
              "      document.body.appendChild(div);\n",
              "\n",
              "      const buffers = [];\n",
              "      let downloaded = 0;\n",
              "\n",
              "      const channel = await google.colab.kernel.comms.open(id);\n",
              "      // Send a message to notify the kernel that we're ready.\n",
              "      channel.send({})\n",
              "\n",
              "      for await (const message of channel.messages) {\n",
              "        // Send a message to notify the kernel that we're ready.\n",
              "        channel.send({})\n",
              "        if (message.buffers) {\n",
              "          for (const buffer of message.buffers) {\n",
              "            buffers.push(buffer);\n",
              "            downloaded += buffer.byteLength;\n",
              "            progress.value = downloaded;\n",
              "          }\n",
              "        }\n",
              "      }\n",
              "      const blob = new Blob(buffers, {type: 'application/binary'});\n",
              "      const a = document.createElement('a');\n",
              "      a.href = window.URL.createObjectURL(blob);\n",
              "      a.download = filename;\n",
              "      div.appendChild(a);\n",
              "      a.click();\n",
              "      div.remove();\n",
              "    }\n",
              "  "
            ],
            "text/plain": [
              "<IPython.core.display.Javascript object>"
            ]
          },
          "metadata": {},
          "output_type": "display_data"
        },
        {
          "data": {
            "application/javascript": [
              "download(\"download_e281228c-9fcc-4156-a533-7ebf64591a66\", \"PDSI_Data_Not_Validated.pickle\", 223172)"
            ],
            "text/plain": [
              "<IPython.core.display.Javascript object>"
            ]
          },
          "metadata": {},
          "output_type": "display_data"
        }
      ]
    },
    {
      "cell_type": "markdown",
      "metadata": {
        "id": "FRMj3Sp1eyEk"
      },
      "source": [
        "###  <font color='dimgray'>EEMD Feature Creation from PDSI</font>"
      ]
    },
    {
      "cell_type": "code",
      "metadata": {
        "id": "wU0YZhkDe3er"
      },
      "source": [
        "#@markdown ### **Run this cell to create PDSI Intrinsic Mode Functions (IMFs) using EEMD**\n",
        "\n",
        "# The purpose of this script is to load data and calculate intrinsic mode functions\n",
        "# (imfs) and coressponding residual using Ensemble Empirical Mode Decomposition \n",
        "# (EEMD). This analysis decomposes a signal into components that create time \n",
        "# aspect for original signal. This accounts for much of the groundwater accuracy.\n",
        "\n",
        "# Data Locations\n",
        "data_root =\"./Datasets/\"\n",
        "figures_root = './Figures EEMD'\n",
        "\n",
        "# Importing well object class\n",
        "DA = utils_data_augmentation.Data_Augmentation(data_root, figures_root)\n",
        "\n",
        "# Load pickle Data\n",
        "Data = DA.read_pickle('PDSI_Data', data_root)\n",
        "cell_names = list(Data.keys())\n",
        "cell_names.remove('Location')\n",
        "\n",
        "\n",
        "# Code is flexible enough to handle multiple cells with multiple variables\n",
        "# such as GLDAS. That is why we use nested loop even though PDSI is a single\n",
        "# variable. Load cell.\n",
        "for i, cell in enumerate(cell_names):\n",
        "    data_temp = Data[cell]\n",
        "    \n",
        "    # Load EEMD class.\n",
        "    for j, var in enumerate(data_temp.columns):\n",
        "        if __name__ == \"__main__\":\n",
        "            eemd = EEMD(trials= 10, noise_width = 0.05, ext_EMD=None, \n",
        "                        parallel = False, separate_trends=False)\n",
        "            eIMF = eemd(data_temp[var].values).T #Transverse to match with index\n",
        "\n",
        "        # Convert pdsi EEMD numpy array to Pandas Dataframe to keep indecies.\n",
        "        eIMF = pd.DataFrame(eIMF, index=data_temp.index)\n",
        "        label = [var + '_imf_' + str(k+1) for k in range(len(eIMF.columns))]\n",
        "        eIMF = eIMF.set_axis(label, axis=1, inplace=False)\n",
        "        data_temp = data_temp.join(eIMF, how='outer')\n",
        "        \n",
        "        # Replace cell data with recalculated values        \n",
        "        Data[cell] = data_temp\n",
        "        \n",
        "        # Plot EEMD Results\n",
        "        fig, axs = plt.subplots(nrows= eIMF.shape[1]+1, ncols=1, figsize=(12,18))\n",
        "        fig.suptitle(str('Ensemble Empirical Mode Decomposition: ' + cell +' ' + var))\n",
        "        plt.subplots_adjust(top=.95, hspace=0.25)\n",
        "        plot_labels = ['IMF '+str(k) if k>0 else var for k in range(len(data_temp.columns))]\n",
        "        for k, _ in enumerate(data_temp):\n",
        "            axs[k].plot(data_temp.index, data_temp[data_temp.columns[k]])\n",
        "            axs[k].set(ylabel = plot_labels[k])\n",
        "        plt.show()\n",
        "        \n",
        "        # Save Figure\n",
        "        fig_namepng = figures_root + '/' + str(cell) + '_EEMD' + '.png'\n",
        "        fig.savefig(fig_namepng, format=\"png\", dpi=600 )\n",
        "\n",
        "# Save pickle file\n",
        "DA.Save_Pickle(Data, 'PDSI_Data_EEMD')\n",
        "\n",
        "print('Success!')"
      ],
      "execution_count": null,
      "outputs": []
    },
    {
      "cell_type": "code",
      "metadata": {
        "colab": {
          "base_uri": "https://localhost:8080/",
          "height": 17
        },
        "id": "PNpG6gqsVCVd",
        "outputId": "be220501-44c6-458f-9842-f3ce10be61ea"
      },
      "source": [
        "#@markdown ### **(Optional) Run this cell to download the PDSI EEMD pickle file to local machine**\n",
        "files.download('/content/Datasets/PDSI_Data_EEMD.pickle')"
      ],
      "execution_count": null,
      "outputs": [
        {
          "data": {
            "application/javascript": [
              "\n",
              "    async function download(id, filename, size) {\n",
              "      if (!google.colab.kernel.accessAllowed) {\n",
              "        return;\n",
              "      }\n",
              "      const div = document.createElement('div');\n",
              "      const label = document.createElement('label');\n",
              "      label.textContent = `Downloading \"${filename}\": `;\n",
              "      div.appendChild(label);\n",
              "      const progress = document.createElement('progress');\n",
              "      progress.max = size;\n",
              "      div.appendChild(progress);\n",
              "      document.body.appendChild(div);\n",
              "\n",
              "      const buffers = [];\n",
              "      let downloaded = 0;\n",
              "\n",
              "      const channel = await google.colab.kernel.comms.open(id);\n",
              "      // Send a message to notify the kernel that we're ready.\n",
              "      channel.send({})\n",
              "\n",
              "      for await (const message of channel.messages) {\n",
              "        // Send a message to notify the kernel that we're ready.\n",
              "        channel.send({})\n",
              "        if (message.buffers) {\n",
              "          for (const buffer of message.buffers) {\n",
              "            buffers.push(buffer);\n",
              "            downloaded += buffer.byteLength;\n",
              "            progress.value = downloaded;\n",
              "          }\n",
              "        }\n",
              "      }\n",
              "      const blob = new Blob(buffers, {type: 'application/binary'});\n",
              "      const a = document.createElement('a');\n",
              "      a.href = window.URL.createObjectURL(blob);\n",
              "      a.download = filename;\n",
              "      div.appendChild(a);\n",
              "      a.click();\n",
              "      div.remove();\n",
              "    }\n",
              "  "
            ],
            "text/plain": [
              "<IPython.core.display.Javascript object>"
            ]
          },
          "metadata": {},
          "output_type": "display_data"
        },
        {
          "data": {
            "application/javascript": [
              "download(\"download_42ce34b6-6c91-4f80-968a-b3bf191dd1ee\", \"PDSI_Data_EEMD.pickle\", 1146270)"
            ],
            "text/plain": [
              "<IPython.core.display.Javascript object>"
            ]
          },
          "metadata": {},
          "output_type": "display_data"
        }
      ]
    },
    {
      "cell_type": "markdown",
      "metadata": {
        "id": "ki-w2wLyYvTs"
      },
      "source": [
        "### <font color='dimgray'>GLDAS Data Prep</font>"
      ]
    },
    {
      "cell_type": "markdown",
      "metadata": {
        "id": "bXhnMfFDq6fk"
      },
      "source": [
        "This step will take 30-60 mins. As such, it is recommended that you set your computer settings to not go to sleep or open a program (e.g. YouTube) that will keep it awake for the full time. The files generated by this step will automatically download so that you can re-upload to your Colab session afterwards."
      ]
    },
    {
      "cell_type": "code",
      "metadata": {
        "colab": {
          "base_uri": "https://localhost:8080/"
        },
        "id": "KjyUaV4EQiQj",
        "outputId": "14566184-36f7-4dcb-fb10-cc2381c5bde1"
      },
      "source": [
        "#@markdown ### **Run this cell to parse the GLDAS data**\n",
        "\n",
        "# Purpose of this script is to: \n",
        "# 1) Create a grid in the likeness of the netcdf we're interested in querying.\n",
        "# 2) Using the grid, identify which cells are located within a shape file boundary.\n",
        "# 3) Use the grids package, and to query the time series, for the variables and cells\n",
        "#    the user has specified.\n",
        "# 4) Save data as a pickle file.\n",
        "\n",
        "# data_root is the location where data will be saved\n",
        "data_root = '/content/Datasets/'\n",
        "file_list = satDataPath + '/Sat_Data_Prep_Ref_Files/subset_GLDAS_NOAH025_M_2.0_20210628_013227.txt'\n",
        "\n",
        "# shape_location is the location to the Shape file\n",
        "shape_location = '/content/Aquifer_Shapes/' + aqFile[:-4] + '.shp'\n",
        "# gldas_root is the location of folder containing the tabulated GLDAS\n",
        "gldas_root = satDataPath + r'/GLDAS_Tabular'\n",
        "\n",
        "# variables_list_loc the text file containing the GLDAS variable names\n",
        "variables_list_loc = satDataPath + '/Sat_Data_Prep_Ref_Files/variables_list.txt'\n",
        "\n",
        "# Class initialization, imports methods and creates data_root if it doesn't exist.\n",
        "utils = usd.utils_netCDF(data_root)\n",
        "# Create grid based on netcdf metadata. Inputs are NE_lat, SW_lat, NE_lon, SW_lon\n",
        "# x resolution, and y resolution. Calculates the centroids.\n",
        "grid = utils.netCDF_Grid_Creation(89.875, -59.875, 179.875, -179.875, 0.25, 0.25)\n",
        "# Loads shape file and obtains bounding box coordinates.\n",
        "bounds = utils.Shape_Boundary(shape_location)\n",
        "\n",
        "# Loop through grid determining if centroid is within shape boundary. Returns \n",
        "# boolean. Hyper-paramters include buffering and padding. Buffer is half cell size\n",
        "# used to make sure approproate cells are captured.\n",
        "cell_names = utils.Find_intercepting_cells(grid, bounds)\n",
        "# Select intercepting cells from dictionary.\n",
        "mask = utils.Cell_Mask(cell_names, grid)\n",
        "# Construct list of cell names within shapefile\n",
        "cell_names = list(cell_names.keys())\n",
        "# Create GLDAS Parsing class\n",
        "GLDAS_parse = usd.GLDAS_parse(gldas_root, cell_names)\n",
        "# Open variable text file, load data, convert to list\n",
        "variables_list = GLDAS_parse.Variable_List(variables_list_loc)\n",
        "# Create subset of GLDAS variable columns based on mask\n",
        "Variable_Dictionary = GLDAS_parse.Open_GLDAS(variables_list, mask)\n",
        "# Split variables into cells and store them into a dictionary along with location\n",
        "Data = GLDAS_parse.parse(Variable_Dictionary, mask)\n",
        "print(Data.keys())\n",
        "\n",
        "# Save data\n",
        "utils.Save_Pickle(Data,'GLDAS_Data', data_root)\n",
        "\n",
        "print('Success!')"
      ],
      "execution_count": null,
      "outputs": [
        {
          "name": "stdout",
          "output_type": "stream",
          "text": [
            "Starting Cell Selection...\n",
            "Cells Found.\n",
            "Variable List Made.\n",
            "Parsing Cell_299784 1/6\n",
            "Parsing Cell_299785 2/6\n",
            "Parsing Cell_299786 3/6\n",
            "Parsing Cell_301224 4/6\n",
            "Parsing Cell_301225 5/6\n",
            "Parsing Cell_301226 6/6\n",
            "dict_keys(['Cell_299784', 'Cell_299785', 'Cell_299786', 'Cell_301224', 'Cell_301225', 'Cell_301226', 'Location'])\n"
          ]
        }
      ]
    },
    {
      "cell_type": "code",
      "metadata": {
        "colab": {
          "base_uri": "https://localhost:8080/",
          "height": 17
        },
        "id": "ALf53lhiCy9w",
        "outputId": "79936ef0-4a47-45da-e8ce-3de4341a4b0e"
      },
      "source": [
        "#@markdown ### **(Optional) Run this cell to download GLDAS pickle files to local machine**\n",
        "files.download('/content/Datasets/GLDAS_Data.pickle')"
      ],
      "execution_count": null,
      "outputs": [
        {
          "data": {
            "application/javascript": [
              "\n",
              "    async function download(id, filename, size) {\n",
              "      if (!google.colab.kernel.accessAllowed) {\n",
              "        return;\n",
              "      }\n",
              "      const div = document.createElement('div');\n",
              "      const label = document.createElement('label');\n",
              "      label.textContent = `Downloading \"${filename}\": `;\n",
              "      div.appendChild(label);\n",
              "      const progress = document.createElement('progress');\n",
              "      progress.max = size;\n",
              "      div.appendChild(progress);\n",
              "      document.body.appendChild(div);\n",
              "\n",
              "      const buffers = [];\n",
              "      let downloaded = 0;\n",
              "\n",
              "      const channel = await google.colab.kernel.comms.open(id);\n",
              "      // Send a message to notify the kernel that we're ready.\n",
              "      channel.send({})\n",
              "\n",
              "      for await (const message of channel.messages) {\n",
              "        // Send a message to notify the kernel that we're ready.\n",
              "        channel.send({})\n",
              "        if (message.buffers) {\n",
              "          for (const buffer of message.buffers) {\n",
              "            buffers.push(buffer);\n",
              "            downloaded += buffer.byteLength;\n",
              "            progress.value = downloaded;\n",
              "          }\n",
              "        }\n",
              "      }\n",
              "      const blob = new Blob(buffers, {type: 'application/binary'});\n",
              "      const a = document.createElement('a');\n",
              "      a.href = window.URL.createObjectURL(blob);\n",
              "      a.download = filename;\n",
              "      div.appendChild(a);\n",
              "      a.click();\n",
              "      div.remove();\n",
              "    }\n",
              "  "
            ],
            "text/plain": [
              "<IPython.core.display.Javascript object>"
            ]
          },
          "metadata": {},
          "output_type": "display_data"
        },
        {
          "data": {
            "application/javascript": [
              "download(\"download_2314d068-d5bd-49bf-a3f4-3d8c04ab01d0\", \"GLDAS_Data.pickle\", 1193079)"
            ],
            "text/plain": [
              "<IPython.core.display.Javascript object>"
            ]
          },
          "metadata": {},
          "output_type": "display_data"
        }
      ]
    },
    {
      "cell_type": "markdown",
      "metadata": {
        "id": "bu_TH0VMeBwP"
      },
      "source": [
        "### <font color='dimgray'>GLDAS Data Augment</font>"
      ]
    },
    {
      "cell_type": "code",
      "metadata": {
        "id": "Nzq7wXZzeDHt"
      },
      "source": [
        "#@markdown ### **Run this cell to augment the GLDAS data with forward rolling windows of 1, 3, and 5 years**\n",
        "# This script will calculate modifications to datasets. Particularly this\n",
        "# loads the GLDAS Data pickle file, and performs a forward rolling window.\n",
        "# This will cause the data to lose months of data equivalating to the largest\n",
        "# window size. \n",
        "\n",
        "# Importing well object class\n",
        "DA = utils_data_augmentation.Data_Augmentation(figures_root = '/content')\n",
        "\n",
        "# Load GLDAS Data\n",
        "Data = DA.read_pickle('GLDAS_Data', root = './Datasets/')\n",
        "cell_names = list(Data.keys())\n",
        "cell_names.remove('Location') # Remove location\n",
        "\n",
        "# Loop through every cell in the dataset performing augmentations. We only used\n",
        "# FRWA, however, offsets and cumulative averages are available.\n",
        "for i, cell in enumerate(cell_names):\n",
        "    data_temp = Data[cell] \n",
        "    data_temp = DA.Rolling_Window(data_temp, data_temp.columns, years=[1, 3, 5])\n",
        "    Data[cell] = data_temp\n",
        "\n",
        "# Save Data\n",
        "DA.Save_Pickle(Data, 'GLDAS_Data_Augmented')\n",
        "\n",
        "print('Success!')"
      ],
      "execution_count": null,
      "outputs": []
    },
    {
      "cell_type": "code",
      "metadata": {
        "colab": {
          "base_uri": "https://localhost:8080/",
          "height": 17
        },
        "id": "zrCVDmwcUXtH",
        "outputId": "dccbde54-cf71-4bc6-b2dc-fa5104decdf8"
      },
      "source": [
        "#@markdown ### **(Optional) Run this cell to download the well pickle file and well points h5 file to local machine**\n",
        "files.download('/content/Datasets/GLDAS_Data_Augmented.pickle')"
      ],
      "execution_count": null,
      "outputs": [
        {
          "data": {
            "application/javascript": [
              "\n",
              "    async function download(id, filename, size) {\n",
              "      if (!google.colab.kernel.accessAllowed) {\n",
              "        return;\n",
              "      }\n",
              "      const div = document.createElement('div');\n",
              "      const label = document.createElement('label');\n",
              "      label.textContent = `Downloading \"${filename}\": `;\n",
              "      div.appendChild(label);\n",
              "      const progress = document.createElement('progress');\n",
              "      progress.max = size;\n",
              "      div.appendChild(progress);\n",
              "      document.body.appendChild(div);\n",
              "\n",
              "      const buffers = [];\n",
              "      let downloaded = 0;\n",
              "\n",
              "      const channel = await google.colab.kernel.comms.open(id);\n",
              "      // Send a message to notify the kernel that we're ready.\n",
              "      channel.send({})\n",
              "\n",
              "      for await (const message of channel.messages) {\n",
              "        // Send a message to notify the kernel that we're ready.\n",
              "        channel.send({})\n",
              "        if (message.buffers) {\n",
              "          for (const buffer of message.buffers) {\n",
              "            buffers.push(buffer);\n",
              "            downloaded += buffer.byteLength;\n",
              "            progress.value = downloaded;\n",
              "          }\n",
              "        }\n",
              "      }\n",
              "      const blob = new Blob(buffers, {type: 'application/binary'});\n",
              "      const a = document.createElement('a');\n",
              "      a.href = window.URL.createObjectURL(blob);\n",
              "      a.download = filename;\n",
              "      div.appendChild(a);\n",
              "      a.click();\n",
              "      div.remove();\n",
              "    }\n",
              "  "
            ],
            "text/plain": [
              "<IPython.core.display.Javascript object>"
            ]
          },
          "metadata": {},
          "output_type": "display_data"
        },
        {
          "data": {
            "application/javascript": [
              "download(\"download_8cbe7a3b-80ec-4cdf-a174-1e3ed1b547d7\", \"GLDAS_Data_Augmented.pickle\", 263678275)"
            ],
            "text/plain": [
              "<IPython.core.display.Javascript object>"
            ]
          },
          "metadata": {},
          "output_type": "display_data"
        }
      ]
    },
    {
      "cell_type": "markdown",
      "metadata": {
        "id": "hF9vG6C4fZAX"
      },
      "source": [
        "---"
      ]
    },
    {
      "cell_type": "markdown",
      "metadata": {
        "id": "LrcqbwHXvAAZ"
      },
      "source": [
        "<a name=\"prep\"></a>\n",
        "## **Step 2: Wells Data Preparation**\n"
      ]
    },
    {
      "cell_type": "markdown",
      "metadata": {
        "id": "Uux77PB62_S_"
      },
      "source": [
        "[Load packages and utility files, if necessary](#loadUtils)"
      ]
    },
    {
      "cell_type": "code",
      "metadata": {
        "id": "Xz81iPIPLfj9"
      },
      "source": [
        "#@markdown ### **Select pickle option below and run this cell to create/load your pickle file**\n",
        "#@markdown ##### *Select your pickle creation/upload option below*\n",
        "Pickle_Upload_Type = \"1) Create your pickle file\" #@param [\"1) Create your pickle file\", \"2) Upload an existing pickle file from Google Drive (recommended for 100+ MB files)\", \"3) Upload existing pickle file from computer\"]\n",
        "# Load data pickle (it must contain 3 df's: centroid of wells, well locations, well measurements)\n",
        "if Pickle_Upload_Type[0:1] == '1':\n",
        "  print('Proceed to next section.')\n",
        "elif Pickle_Upload_Type[0:1] == '2':\n",
        "  def saveText(button):\n",
        "    global pickleFilePath\n",
        "    pickleFilePath = pickleFilePath_widget.value\n",
        "    print('\\rFile Path = \"%s\"' %(pickleFilePath), end='')\n",
        "    shutil.copy(pickleFilePath,'/content/Aquifers_Data/' + pickleFilePath.rsplit('/', 1)[-1])\n",
        "  pickleFilePath_widget = widgets.Text(placeholder='Path to File', description='File Path:', disabled=False)\n",
        "  button = widgets.Button(description='Save', disabled=False)\n",
        "  button.on_click(saveText)\n",
        "  display(widgets.VBox([pickleFilePath_widget, button]))\n",
        "else:\n",
        "  print(\"Upload the pickle file with well locations, centroid, and time series measurements:\\n\")\n",
        "  uploaded = files.upload()\n",
        "  data_file = ''.join(uploaded)\n",
        "  os.rename('/content/'+data_file,'/content/Aquifers_Data/'+data_file)\n",
        "  pickleFilePath = '/content/Aquifers_Data/'+data_file"
      ],
      "execution_count": null,
      "outputs": []
    },
    {
      "cell_type": "markdown",
      "metadata": {
        "id": "jlMut8rldKRA"
      },
      "source": [
        "### <font color='dimgray'>Wells Data - Pickle File Creation</font>\n",
        "This section can be used for preparing a pickle file for wells data preparation. It requires a wells file and a time series file as inputs (.csv files) and creates one output file (.pickle). If you have already uploaded an existing pickle file, you can skip this subsection and go to the 'Wells Data Prep' subsection."
      ]
    },
    {
      "cell_type": "code",
      "metadata": {
        "id": "DFWD3jtueMJ1"
      },
      "source": [
        "#@markdown ### **Define the file name of the pickle file that will be created, then run the cell**\n",
        "picklefilename = 'CA_JPL' #@param {type:\"string\"}\n",
        "\n",
        "# Set the dates as dates and sort in ascending order\n",
        "tms_df[date] = pd.to_datetime(tms_df[date])\n",
        "tms_df.sort_values(by=[date], inplace=True)\n",
        "\n",
        "numWells = len(tms_df.drop_duplicates([tms_wellID]))\n",
        "numDates = len(tms_df.drop_duplicates([date]))\n",
        "numDups = len(tms_df.drop_duplicates([tms_wellID, date]))\n",
        "#print('There are %d unique wells, %d unique dates, and %d unique entries (with a unique well ID and date combo).' % (numWells, numDates, numDups))\n",
        "#print('The shape of the matrix:' + ' ' + str(tms_df.shape))\n",
        "\n",
        "# Create the NxM matrix (where N = number of unique dates with values; M = number of unique well IDs)\n",
        "tms_df_matrix = pd.pivot_table(tms_df, index=date, values=var, columns=tms_wellID)\n",
        "#print(sum(tms_df_matrix.count()), \"values in the matrix\\n(Values from the same well and date are averaged)\\n\")\n",
        "#print('The shape of the matrix:' + ' ' + str(tms_df_matrix.shape))\n",
        "#====================================================================\n",
        "\n",
        "# Create locations df\n",
        "unique_wells_df = wls_df.drop_duplicates(wls_wellID).merge(tms_df.drop_duplicates(tms_wellID)[tms_wellID], left_on=wls_wellID, right_on=tms_wellID)\n",
        "unique_wells_df.rename(columns={long: \"Longitude\", lat: \"Latitude\"}, inplace=True)\n",
        "unique_wells_df = unique_wells_df[[wls_wellID, 'Latitude', 'Longitude']].set_index(wls_wellID)\n",
        "unique_wells_df\n",
        "\n",
        "# Calculate centroid\n",
        "centroid_df = pd.DataFrame([0,0], index=(['Longitude','Latitude']))\n",
        "lonAvg, latAvg = unique_wells_df['Longitude'].mean(), unique_wells_df['Latitude'].mean()\n",
        "centroid_df.loc['Longitude'], centroid_df.loc['Latitude'] = lonAvg, latAvg\n",
        "\n",
        "def Pandas_to_Pickle(combined_df, location_df, centroid, name):\n",
        "    Aquifer = {'Data':combined_df, 'Location':location_df, 'Centroid':centroid}\n",
        "    pickle_name = name + '.pickle'\n",
        "    with open(pickle_name, 'wb') as handle:\n",
        "        pickle.dump(Aquifer, handle)\n",
        "    return Aquifer\n",
        "pickleData = Pandas_to_Pickle(tms_df_matrix, unique_wells_df, centroid_df, picklefilename)\n",
        "pickleFilePath = '/content/Aquifers_Data/'+picklefilename+'.pickle'\n",
        "os.rename('/content/'+picklefilename+'.pickle', pickleFilePath)"
      ],
      "execution_count": null,
      "outputs": []
    },
    {
      "cell_type": "code",
      "metadata": {
        "id": "q6zEIG5_5LML"
      },
      "source": [
        "#@markdown ### **Define the file name of the pickle file that will be created, then run the cell**\n",
        "picklefilename = 'Type your file name here' #@param {type:\"string\"}\n",
        "\n",
        "# Set the dates as dates and sort in ascending order\n",
        "tms_df[date] = pd.to_datetime(tms_df[date])\n",
        "tms_df.sort_values(by=[date], inplace=True)\n",
        "\n",
        "numWells = len(tms_df.drop_duplicates([tms_wellID]))\n",
        "numDates = len(tms_df.drop_duplicates([date]))\n",
        "numDups = len(tms_df.drop_duplicates([tms_wellID, date]))\n",
        "#print('There are %d unique wells, %d unique dates, and %d unique entries (with a unique well ID and date combo).' % (numWells, numDates, numDups))\n",
        "#print('The shape of the matrix:' + ' ' + str(tms_df.shape))\n",
        "\n",
        "# Create the NxM matrix (where N = number of unique dates with values; M = number of unique well IDs)\n",
        "tms_df_matrix = pd.pivot_table(tms_df, index=date, values=var, columns=tms_wellID)\n",
        "#print(sum(tms_df_matrix.count()), \"values in the matrix\\n(Values from the same well and date are averaged)\\n\")\n",
        "#print('The shape of the matrix:' + ' ' + str(tms_df_matrix.shape))\n",
        "#====================================================================\n",
        "\n",
        "# Create locations df\n",
        "unique_wells_df = wls_df.drop_duplicates(wls_wellID).merge(tms_df.drop_duplicates(tms_wellID)[tms_wellID], left_on=wls_wellID, right_on=tms_wellID)\n",
        "unique_wells_df.rename(columns={long: \"Longitude\", lat: \"Latitude\"}, inplace=True)\n",
        "unique_wells_df = unique_wells_df[[wls_wellID, 'Latitude', 'Longitude']].set_index(wls_wellID)\n",
        "unique_wells_df\n",
        "\n",
        "# Calculate centroid\n",
        "centroid_df = pd.DataFrame([0,0], index=(['Longitude','Latitude']))\n",
        "lonAvg, latAvg = unique_wells_df['Longitude'].mean(), unique_wells_df['Latitude'].mean()\n",
        "centroid_df.loc['Longitude'], centroid_df.loc['Latitude'] = lonAvg, latAvg\n",
        "\n",
        "def Pandas_to_Pickle(combined_df, location_df, centroid, name):\n",
        "    Aquifer = {'Data':combined_df, 'Location':location_df, 'Centroid':centroid}\n",
        "    pickle_name = name + '.pickle'\n",
        "    with open(pickle_name, 'wb') as handle:\n",
        "        pickle.dump(Aquifer, handle)\n",
        "    return Aquifer\n",
        "pickleData = Pandas_to_Pickle(tms_df_matrix, unique_wells_df, centroid_df, picklefilename)\n",
        "pickleFilePath = '/content/Aquifers_Data/'+picklefilename+'.pickle'\n",
        "os.rename('/content/'+picklefilename+'.pickle', pickleFilePath)"
      ],
      "execution_count": null,
      "outputs": []
    },
    {
      "cell_type": "markdown",
      "metadata": {
        "id": "UXcCuOmlwIyX"
      },
      "source": [
        "### <font color='dimgray'>Wells Data Prep</font>"
      ]
    },
    {
      "cell_type": "code",
      "metadata": {
        "id": "3HC965RRnW1r"
      },
      "source": [
        "#@markdown ### **Run this cell to filter, resample, and interpolate observed well data**\n",
        "#@markdown ---\n",
        "#@markdown #### Specify minimum number of unique observation months\n",
        "#@markdown *In order to filter out wells that do not have sufficient data, a minimum number of unique observation months (i.e. unique months with at least 1 observation) is required.* **All wells that do not meet this threshold will be discarded.**\n",
        "Minimum_Observation_Months = 50 #@param {type:\"integer\"}\n",
        "#@markdown ---\n",
        "#@markdown #### Specify the pad size\n",
        "#@markdown *The pad size determines the length of time (in days) after an observation that data will be interpolated*\n",
        "Pad_Size = 90 #@param {type:\"integer\"}\n",
        " \n",
        "# This script opens preprocessed pickle file containing 3 DataFrames: Centroid,\n",
        "# Well Timeseries, and well location.\n",
        "# High level does 3 things:\n",
        "# 1: Extracts Well Time series, and drops any well without a minimum amount\n",
        "#    of Data within a user specified window\n",
        "# 2: Interpolates subset of data, removing gaps larger than user specified size\n",
        "#    Gaps will be filled in using a machine learning algorithm. This step\n",
        "#    is based on the assumption that groundwater changes are slow, and readings\n",
        "#    will remain valid for a time period after the original reading.\n",
        "# 3: Contains support functions of data augmentation such as Rolling-Window \n",
        "#    averages and plotting. \n",
        "\n",
        "# Data Locations\n",
        "data_root =    '/content/Datasets/'\n",
        "aquifer_root = '/content/Aquifers_Data'\n",
        "figures_root = '/content/Figures Aquifer'\n",
        "\n",
        "# Location must be added\n",
        "Wells=wf.wellfunc(data_root, aquifer_root, figures_root)\n",
        "\n",
        "# read the well data from a pickle file\n",
        "raw_wells_dict = Wells.read_well_pickle(pickleFilePath.rsplit('/', 1)[-1][:-7])\n",
        "\n",
        "# extractwelldata extracts waterlevel measurements and creates a panda data \n",
        "# Bcap and Fcap are bottom and final cap, this control guarrenties that wells\n",
        "# will contain data before and after the caps\n",
        "# MinEx is the minimum number examples required within dataset\n",
        "# extract the data into a panda data frame\n",
        "wells_dict = Wells.extractwelldata(raw_wells_dict, Left=1948, Right=2021, Min_Obs_Months=Minimum_Observation_Months)          \n",
        "\n",
        "# now need to resample well data to begining of month ('1MS') or chosen period\n",
        "# next most used will be 'QS' Quarter Start Frequency\n",
        "# need to fill with NaNs on large gaps\n",
        "# interpolate the well data to regular interval\n",
        "# do not interpolate for large gaps (gap size can be set in function)\n",
        "# provide data on either side of measured data - no nans - can be set in func\n",
        "# can select data interval in function\n",
        "wells_dict['Data'] = Wells.interp_well(wells_dict['Data'], gap_size = '365 days', pad = Pad_Size, spacing = '1MS')\n",
        "\n",
        "# Plot Well Results\n",
        "Wells.well_plot(wells_dict['Data'], wells_dict['Data'], plot_wells= True)  # plot the data to look at\n",
        "\n",
        "#Save Datasets\n",
        "Wells.Save_Pickle(wells_dict, 'Well_Data')\n",
        "wells_dict['Data'].to_hdf(data_root + '03_Original_Points.h5', key='df', mode='w')\n",
        "\n",
        "print('Success!')"
      ],
      "execution_count": null,
      "outputs": []
    },
    {
      "cell_type": "code",
      "metadata": {
        "colab": {
          "base_uri": "https://localhost:8080/",
          "height": 17
        },
        "id": "XwkOCID1Tp7S",
        "outputId": "085ee16d-5ca1-4f1a-966d-122f94ff8d93"
      },
      "source": [
        "#@markdown ### **(Optional) Run this cell to download the well pickle file and well points h5 file to local machine**\n",
        "#@markdown ##### *You may have to [allow colab to download multiple files at a time](#download)*\n",
        "files.download('/content/Datasets/Well_Data.pickle')\n",
        "files.download('/content/Datasets/03_Original_Points.h5')"
      ],
      "execution_count": null,
      "outputs": [
        {
          "data": {
            "application/javascript": [
              "\n",
              "    async function download(id, filename, size) {\n",
              "      if (!google.colab.kernel.accessAllowed) {\n",
              "        return;\n",
              "      }\n",
              "      const div = document.createElement('div');\n",
              "      const label = document.createElement('label');\n",
              "      label.textContent = `Downloading \"${filename}\": `;\n",
              "      div.appendChild(label);\n",
              "      const progress = document.createElement('progress');\n",
              "      progress.max = size;\n",
              "      div.appendChild(progress);\n",
              "      document.body.appendChild(div);\n",
              "\n",
              "      const buffers = [];\n",
              "      let downloaded = 0;\n",
              "\n",
              "      const channel = await google.colab.kernel.comms.open(id);\n",
              "      // Send a message to notify the kernel that we're ready.\n",
              "      channel.send({})\n",
              "\n",
              "      for await (const message of channel.messages) {\n",
              "        // Send a message to notify the kernel that we're ready.\n",
              "        channel.send({})\n",
              "        if (message.buffers) {\n",
              "          for (const buffer of message.buffers) {\n",
              "            buffers.push(buffer);\n",
              "            downloaded += buffer.byteLength;\n",
              "            progress.value = downloaded;\n",
              "          }\n",
              "        }\n",
              "      }\n",
              "      const blob = new Blob(buffers, {type: 'application/binary'});\n",
              "      const a = document.createElement('a');\n",
              "      a.href = window.URL.createObjectURL(blob);\n",
              "      a.download = filename;\n",
              "      div.appendChild(a);\n",
              "      a.click();\n",
              "      div.remove();\n",
              "    }\n",
              "  "
            ],
            "text/plain": [
              "<IPython.core.display.Javascript object>"
            ]
          },
          "metadata": {},
          "output_type": "display_data"
        },
        {
          "data": {
            "application/javascript": [
              "download(\"download_471522fb-33d0-47a4-be87-042cceff02bc\", \"Well_Data.pickle\", 275053)"
            ],
            "text/plain": [
              "<IPython.core.display.Javascript object>"
            ]
          },
          "metadata": {},
          "output_type": "display_data"
        },
        {
          "data": {
            "application/javascript": [
              "\n",
              "    async function download(id, filename, size) {\n",
              "      if (!google.colab.kernel.accessAllowed) {\n",
              "        return;\n",
              "      }\n",
              "      const div = document.createElement('div');\n",
              "      const label = document.createElement('label');\n",
              "      label.textContent = `Downloading \"${filename}\": `;\n",
              "      div.appendChild(label);\n",
              "      const progress = document.createElement('progress');\n",
              "      progress.max = size;\n",
              "      div.appendChild(progress);\n",
              "      document.body.appendChild(div);\n",
              "\n",
              "      const buffers = [];\n",
              "      let downloaded = 0;\n",
              "\n",
              "      const channel = await google.colab.kernel.comms.open(id);\n",
              "      // Send a message to notify the kernel that we're ready.\n",
              "      channel.send({})\n",
              "\n",
              "      for await (const message of channel.messages) {\n",
              "        // Send a message to notify the kernel that we're ready.\n",
              "        channel.send({})\n",
              "        if (message.buffers) {\n",
              "          for (const buffer of message.buffers) {\n",
              "            buffers.push(buffer);\n",
              "            downloaded += buffer.byteLength;\n",
              "            progress.value = downloaded;\n",
              "          }\n",
              "        }\n",
              "      }\n",
              "      const blob = new Blob(buffers, {type: 'application/binary'});\n",
              "      const a = document.createElement('a');\n",
              "      a.href = window.URL.createObjectURL(blob);\n",
              "      a.download = filename;\n",
              "      div.appendChild(a);\n",
              "      a.click();\n",
              "      div.remove();\n",
              "    }\n",
              "  "
            ],
            "text/plain": [
              "<IPython.core.display.Javascript object>"
            ]
          },
          "metadata": {},
          "output_type": "display_data"
        },
        {
          "data": {
            "application/javascript": [
              "download(\"download_553414d8-bd98-49c8-bcd3-e0423edb42a3\", \"03_Original_Points.h5\", 276304)"
            ],
            "text/plain": [
              "<IPython.core.display.Javascript object>"
            ]
          },
          "metadata": {},
          "output_type": "display_data"
        }
      ]
    },
    {
      "cell_type": "markdown",
      "metadata": {
        "id": "z48Bg3VsfbIC"
      },
      "source": [
        "---"
      ]
    },
    {
      "cell_type": "markdown",
      "metadata": {
        "id": "eIgSsMpAu-B7"
      },
      "source": [
        "<a name=\"impute\"></a>\n",
        "\n",
        "## **Step 3: Data Imputation**"
      ]
    },
    {
      "cell_type": "markdown",
      "metadata": {
        "id": "KiNAoX2I_p0J"
      },
      "source": [
        "This step may take anywhere from a few minutess to a few hours, depending on how many wells you have (that weren't filtered out). The script processes about 2.5 wells per minute.\n",
        "\n",
        "We recommend that when you run each cell, you also run the optional file download cell at the end of the section so that you don't lose your work."
      ]
    },
    {
      "cell_type": "markdown",
      "metadata": {
        "id": "MC2GaE9xK5VU"
      },
      "source": [
        "[Load packages and utility files](#loadUtils)"
      ]
    },
    {
      "cell_type": "code",
      "metadata": {
        "id": "W2Tw9FWWvGi_",
        "colab": {
          "base_uri": "https://localhost:8080/"
        },
        "outputId": "b6bd15b2-667b-44ae-a5ff-f70edfd53213"
      },
      "source": [
        "#@markdown ### **Run this cell to load a new environment to perform data imputation**\n",
        "import pandas as pd\n",
        "import numpy as np\n",
        "import utils_machine_learning\n",
        "import warnings\n",
        "from scipy.spatial.distance import cdist\n",
        "\n",
        "from sklearn.model_selection import train_test_split\n",
        "from sklearn.preprocessing import MinMaxScaler, StandardScaler\n",
        "from sklearn.model_selection import KFold\n",
        "from sklearn.inspection import permutation_importance\n",
        "\n",
        "from tensorflow.keras import callbacks\n",
        "from tensorflow.keras.models import Sequential\n",
        "from tensorflow.keras.layers import Dense, Dropout\n",
        "from tensorflow.keras.optimizers import Adam\n",
        "from tensorflow.keras.regularizers import L2\n",
        "from tensorflow.keras.metrics import RootMeanSquaredError, mean_absolute_error\n",
        "\n",
        "print('Success!')"
      ],
      "execution_count": null,
      "outputs": [
        {
          "output_type": "stream",
          "name": "stdout",
          "text": [
            "Success!\n"
          ]
        }
      ]
    },
    {
      "cell_type": "code",
      "metadata": {
        "id": "QPQHnFxjqQ9m"
      },
      "source": [
        "#@markdown ### **Run this cell to upload files (if starting from a new session)**\n",
        "Upload_Files = False #@param {type:\"boolean\"}\n",
        "\n",
        "if Upload_Files == True:\n",
        "  if not os.path.isdir('Datasets'):\n",
        "    !mkdir Datasets\n",
        "  print(\"Upload Well_Data pickle file from step 2\\n\")\n",
        "  uploaded = files.upload()\n",
        "  os.rename('/content/'+list(uploaded.keys())[0],'/content/Datasets/'+list(uploaded.keys())[0])\n",
        "  print(\"\\nUpload 03_Original_Points.h5 file from step 2\\n\")\n",
        "  uploaded = files.upload()\n",
        "  os.rename('/content/'+list(uploaded.keys())[0],'/content/Datasets/'+list(uploaded.keys())[0])\n",
        "  print(\"\\nUpload PDSI_Data_EEMD pickle file from step 1\\n\")\n",
        "  uploaded = files.upload()\n",
        "  os.rename('/content/'+list(uploaded.keys())[0],'/content/Datasets/'+list(uploaded.keys())[0])\n",
        "  print(\"\\nUpload GLDAS_Data_Augmented pickle file from step 1\\n(The file may take several minutes to upload)\\n\")\n",
        "  uploaded = files.upload()\n",
        "  os.rename('/content/'+list(uploaded.keys())[0],'/content/Datasets/'+list(uploaded.keys())[0])\n",
        "else: print(\"If your files are not uploaded in the current session, select the Upload_Files box and re-run the cell.\")"
      ],
      "execution_count": null,
      "outputs": []
    },
    {
      "cell_type": "code",
      "metadata": {
        "id": "2hBz5zcTfAym"
      },
      "source": [
        "warnings.simplefilter(action='ignore')\n",
        "#Data Settings\n",
        "#@markdown ### **Define the name of the aquifer, then run the cell**\n",
        "aquifer_name = \"Central Valley, CA\" #@param {type:\"string\"}\n",
        "data_root =    '/content/Datasets/'\n",
        "figures_root = '/content/Figures Imputed'\n",
        "\n",
        "###### Model Setup\n",
        "imputation = utils_machine_learning.imputation(data_root, figures_root)\n",
        "\n",
        "###### Measured Well Data\n",
        "Original_Raw_Points = pd.read_hdf(data_root + '03_Original_Points.h5')\n",
        "Well_Data = imputation.read_pickle('Well_Data', data_root)\n",
        "PDSI_Data = imputation.read_pickle('PDSI_Data_EEMD', data_root)\n",
        "GLDAS_Data = imputation.read_pickle('GLDAS_Data_Augmented', data_root)\n",
        "\n",
        "###### Getting Well Dates\n",
        "Feature_Index = GLDAS_Data[list(GLDAS_Data.keys())[0]].index\n",
        "\n",
        "###### Importing Metrics and Creating Error DataFrame\n",
        "Summary_Metrics = pd.DataFrame(columns=['Train MSE','Train RMSE', 'Train MAE',\n",
        "                                        'Validation MSE','Validation RMSE', 'Validation MAE'])\n",
        "###### Feature importance Tracker\n",
        "Feature_Importance = pd.DataFrame()\n",
        "###### Creating Empty Imputed DataFrame\n",
        "Imputed_Data = pd.DataFrame(index=Feature_Index)\n",
        "\n",
        "wellNum = 0\n",
        "wellTot = len(Well_Data['Location'])"
      ],
      "execution_count": null,
      "outputs": []
    },
    {
      "cell_type": "code",
      "metadata": {
        "id": "eraRR8Z7ZI8h"
      },
      "source": [
        "#@markdown ### **Specify your run option and paramters and run this cell to perform data imputation using the machine learning algorithm**\n",
        "#@markdown #### * *Please note that this step will take a long time. We recommend to [allow Colab to download multiple files at once](#download), then run the subsequent cell at the same time as this cell. That will automatically download your files  after imputation is complete in case your Colab session ends before you return.* *\n",
        "#@markdown ---\n",
        "#@markdown *The default option is a lighter version that does not include K-fold cross-validation. You can change that option here:*\n",
        "Validation_Type = \"1) Basic (default)\" #@param [\"1) Basic (default)\", \"2) Advanced (with K-fold cross-validation)\"]\n",
        "#@markdown ---\n",
        "#@markdown #### Specify the L2 Parameter:\n",
        "#@markdown *L2 is a parameter for regularization... the higher the value, the more smooth or biased it is*\n",
        "L2_Parameter = 0.01 #@param {type:\"number\"} \n",
        "# default 0.01\n",
        "#@markdown ---\n",
        "#@markdown #### Specify the Test Size Parameter:\n",
        "#@markdown *The test size parameter specifies the split for the test data and validation dataset (could go up to 0.35 if not many examples)*\n",
        "Test_Size_Parameter = 0.30 #@param {type:\"number\"} \n",
        "# default 0.30\n",
        "#@markdown ---\n",
        "#@markdown #### Specify the early stopping minimum delta parameter:\n",
        "#@markdown *The minimum delta parameter specifies the delta of error between iterations at which the algorithm will stop*\n",
        "Min_Delta_Parameter = 0.0 #@param {type:\"number\"} \n",
        "# default 0.0\n",
        "\n",
        "if Validation_Type[0] == \"2\": \n",
        "  Summary_Metrics = pd.DataFrame(columns=['Train MSE','Train RMSE', 'Train MAE',\n",
        "                                        'Validation MSE','Validation RMSE', 'Validation MAE',\n",
        "                                        'Test MSE','Test RMSE', 'Test MAE'])\n",
        "wellNum = 0\n",
        "wellTot = len(Well_Data['Location'])\n",
        "for i, well in enumerate(Well_Data['Data'].columns):\n",
        "    try:\n",
        "        wellNum += 1\n",
        "        print('Well %d out of %d processing...' %(wellNum, wellTot))\n",
        "        ###### Get Well raw readings for single well\n",
        "        Raw = Original_Raw_Points[well].fillna(limit=2, method='ffill')\n",
        "        \n",
        "        ###### Get Well readings for single well\n",
        "        Well_set_original = pd.DataFrame(Well_Data['Data'][well], index = Feature_Index[:])\n",
        "        well_scaler = MinMaxScaler()\n",
        "        well_scaler.fit(Well_set_original)\n",
        "        Well_set_temp = pd.DataFrame(well_scaler.transform(Well_set_original), index = Well_set_original.index, columns=([well]))\n",
        "        \n",
        "        \n",
        "        ###### PDSI Selection\n",
        "        (well_x, well_y) = Well_Data['Location'].loc[well]\n",
        "        df_temp = pd.DataFrame(index=PDSI_Data['Location'].index, columns =(['Longitude', 'Latitude']))\n",
        "        for j, cell in enumerate(PDSI_Data['Location'].index):\n",
        "            df_temp.loc[cell] = PDSI_Data['Location'].loc[cell]\n",
        "        pdsi_dist = pd.DataFrame(cdist(np.array(([well_x,well_y])).reshape((1,2)), df_temp, metric='euclidean'), columns=df_temp.index).T\n",
        "        pdsi_key = pdsi_dist[0].idxmin()\n",
        "        Feature_Data = PDSI_Data[pdsi_key]\n",
        "        \n",
        "        \n",
        "        ###### GLDAS Selection\n",
        "        df_temp = pd.DataFrame(index=PDSI_Data['Location'].index, columns =(['Longitude', 'Latitude']))\n",
        "        for j, cell in enumerate(GLDAS_Data['Location'].index):\n",
        "            df_temp.loc[cell] = GLDAS_Data['Location'].loc[cell]\n",
        "        gldas_dist = pd.DataFrame(cdist(np.array(([well_x,well_y])).reshape((1,2)), df_temp, metric='euclidean'), columns=df_temp.index).T\n",
        "        gldas_key = gldas_dist[0].idxmin()\n",
        "        \n",
        "        ###### Feature Join\n",
        "        Feature_Data = imputation.Data_Join(Feature_Data, GLDAS_Data[gldas_key]).dropna()\n",
        "\n",
        "        ###### Feature Scaling\n",
        "        feature_scaler = StandardScaler() #StandardScaler() #MinMaxScaler()\n",
        "        feature_scaler.fit(Feature_Data)\n",
        "        Feature_Data = pd.DataFrame(feature_scaler.transform(Feature_Data), index = Feature_Data.index, columns=Feature_Data.columns)\n",
        "\n",
        "\n",
        "        ###### Joining Features to Well Data\n",
        "        Well_set = Well_set_temp.join(Feature_Data, how='outer')\n",
        "        Well_set = Well_set[Well_set[Well_set.columns[1]].notnull()]\n",
        "        Well_set_clean = Well_set.dropna()\n",
        "        Y, X = imputation.Data_Split(Well_set_clean, well)\n",
        "        \n",
        "        if Validation_Type[0] == '2':\n",
        "            (Y_kfold, X_kfold) = (Y.to_numpy(), X.to_numpy())\n",
        "            kfold = KFold(n_splits = 5, shuffle = True)\n",
        "            temp_metrics = pd.DataFrame(columns=[Summary_Metrics.columns])\n",
        "            j = 1\n",
        "            for train_index, test_index in kfold.split(Y_kfold, X_kfold):\n",
        "                x_train, x_test = X_kfold[train_index], X_kfold[test_index]\n",
        "                y_train, y_test = Y_kfold[train_index], Y_kfold[test_index]\n",
        "                x_train, x_val, y_train, y_val = train_test_split(x_train, y_train, test_size=Test_Size_Parameter, random_state=42)\n",
        "                \n",
        "                ###### Model Initialization\n",
        "                hidden_nodes = 300\n",
        "                opt = Adam(learning_rate=0.001)\n",
        "                model = Sequential()\n",
        "                model.add(Dense(hidden_nodes, input_dim = X.shape[1], activation = 'relu', use_bias=True,\n",
        "                    kernel_initializer='glorot_uniform', kernel_regularizer= L2(l2=L2_Parameter))) #he_normal\n",
        "                model.add(Dropout(rate=0.2))\n",
        "                model.add(Dense(1))\n",
        "                model.compile(optimizer = opt, loss='mse', metrics=[RootMeanSquaredError(), mean_absolute_error])\n",
        "            \n",
        "                ###### Hyper Paramter Adjustments\n",
        "                early_stopping = callbacks.EarlyStopping(monitor='val_loss', patience=5, min_delta=Min_Delta_Parameter, restore_best_weights=True)\n",
        "                history = model.fit(x_train, y_train, epochs=500, validation_data = (x_val, y_val), verbose= 3, callbacks=[early_stopping])\n",
        "                train_mse = model.evaluate(x_train, y_train)\n",
        "                validation_mse = model.evaluate(x_val, y_val)\n",
        "                test_mse = model.evaluate(x_test, y_test)\n",
        "                \n",
        "                df_metrics = pd.DataFrame(np.array([train_mse + validation_mse + test_mse]).reshape((1,9)), \n",
        "                                          index=([str(j)]), columns=([Summary_Metrics.columns]))\n",
        "                temp_metrics = pd.concat(objs=[temp_metrics, df_metrics])\n",
        "                print(j)\n",
        "                j += 1\n",
        "\n",
        "            ###### Permutation Feature Importance\n",
        "            print('Working on Permutation Feature Importance...')\n",
        "            results = permutation_importance(model, x_test, y_test, n_repeats=5, random_state=42, scoring='neg_mean_squared_error')\n",
        "            importance_df = pd.DataFrame(results.importances_mean, index = Feature_Data.columns, columns=([well])).sort_index(ascending=True).transpose()\n",
        "            Feature_Importance = Feature_Importance.append(importance_df)\n",
        "            \n",
        "            ###### Score and Tracking Metrics\n",
        "            Summary_Metrics.loc[cell] = temp_metrics.mean()\n",
        "            y_test_hat = model.predict(x_test)\n",
        "            y_hat = y_test_hat\n",
        "            y_object = y_test\n",
        "        elif Validation_Type[0] == '1':\n",
        "            x_train, x_val, y_train, y_val = train_test_split(X, Y, test_size=Test_Size_Parameter, random_state=42) \n",
        "            ###### Model Initialization\n",
        "            hidden_nodes = 300\n",
        "            opt = Adam(learning_rate=0.001)\n",
        "            model = Sequential()\n",
        "            model.add(Dense(hidden_nodes, input_dim = X.shape[1], activation = 'relu', use_bias=True,\n",
        "                kernel_initializer='glorot_uniform', kernel_regularizer= L2(l2=L2_Parameter))) \n",
        "            model.add(Dropout(rate=0.2))\n",
        "            model.add(Dense(1))\n",
        "            model.compile(optimizer = opt, loss='mse', metrics=[RootMeanSquaredError(), mean_absolute_error])\n",
        "        \n",
        "            ###### Hyper Paramter Adjustments\n",
        "            early_stopping = callbacks.EarlyStopping(monitor='val_loss', patience=5, min_delta=Min_Delta_Parameter, restore_best_weights=True)\n",
        "            history = model.fit(x_train, y_train, epochs=500, validation_data = (x_val, y_val), verbose= 3, callbacks=[early_stopping])\n",
        "\n",
        "            ###### Score and Tracking Metrics\n",
        "            train_mse = model.evaluate(x_train, y_train)\n",
        "            validation_mse = model.evaluate(x_val, y_val)\n",
        "            df_metrics = pd.DataFrame(np.array([train_mse + validation_mse]).reshape((1,6)), \n",
        "                index=([str(well)]), columns=(['Train MSE','Train RMSE', 'Train MAE',\n",
        "                                            'Validation MSE','Validation RMSE', 'Validation MAE']))\n",
        "            Summary_Metrics = pd.concat(objs=[Summary_Metrics, df_metrics])\n",
        "            y_val_hat = model.predict(x_val)\n",
        "            y_hat = y_val_hat\n",
        "            y_object = y_val\n",
        "\n",
        "        ###### Model Prediction\n",
        "        Prediction = pd.DataFrame(well_scaler.inverse_transform(model.predict(Feature_Data)), index=Feature_Data.index, columns = ['Prediction'])\n",
        "        Gap_time_series = pd.DataFrame(Well_Data['Data'][well], index = Prediction.index)\n",
        "        Filled_time_series = Gap_time_series[well].fillna(Prediction['Prediction'])\n",
        "        Imputed_Data = pd.concat([Imputed_Data, Filled_time_series], join='inner', axis=1)\n",
        "\n",
        "        ###### Model Plots\n",
        "        imputation.Model_Training_Metrics_plot(history.history, str(well))\n",
        "        imputation.Q_Q_plot(y_hat, y_object, str(well))\n",
        "        imputation.observeation_vs_prediction_plot(Prediction.index, Prediction['Prediction'], Well_set_original.index, Well_set_original, str(well))\n",
        "        imputation.observeation_vs_imputation_plot(Imputed_Data.index, Imputed_Data[well], Well_set_original.index, Well_set_original, str(well))\n",
        "        imputation.raw_observation_vs_prediction(Prediction, Raw, str(well), aquifer_name)\n",
        "        imputation.raw_observation_vs_imputation(Filled_time_series, Raw, str(well))\n",
        "        print('Next Well')\n",
        "\n",
        "    except Exception as e:\n",
        "        print(e)\n",
        "\n",
        "# Save output to files\n",
        "Summary_Metrics.to_hdf(data_root  + '/' + '06_Metrics.h5', key='metrics', mode='w')\n",
        "Well_Data_Imputed = Well_Data\n",
        "Well_Data_Imputed['Data'] = Imputed_Data\n",
        "imputation.Save_Pickle(Well_Data_Imputed, 'Well_Data_Imputed', data_root)\n",
        "imputation.Aquifer_Plot(Well_Data_Imputed['Data']) \n",
        "\n",
        "if Validation_Type[0] == '2':\n",
        "    imputation.Feature_Importance_box_plot(Feature_Importance)\n",
        "    Feature_Importance.to_pickle(data_root  + '/' + 'Feature_Importance.pickle') \n",
        "\n",
        "print('Success!')"
      ],
      "execution_count": null,
      "outputs": []
    },
    {
      "cell_type": "code",
      "metadata": {
        "id": "iYwoOqtjXlcq"
      },
      "source": [
        "Summary_Metrics.mean()"
      ],
      "execution_count": null,
      "outputs": []
    },
    {
      "cell_type": "code",
      "metadata": {
        "id": "cU8swtXXW9t4"
      },
      "source": [
        "#@markdown ### **(Optional) Run this cell to download the imputed well data pickle file and the error metrics h5 file to local machine**\n",
        "#@markdown ##### *You may have to [allow colab to download multiple files at a time](#download)*\n",
        "files.download('/content/Datasets/Well_Data_Imputed.pickle')\n",
        "files.download('/content/Datasets/06_Metrics.h5')\n",
        "if os.path.isfile('/content/Datasets/Feature_Importance.pickle'):\n",
        "  files.download('/content/Datasets/Feature_Importance.pickle')"
      ],
      "execution_count": null,
      "outputs": []
    },
    {
      "cell_type": "markdown",
      "metadata": {
        "id": "HlGDOG7fvbUJ"
      },
      "source": [
        "---"
      ]
    },
    {
      "cell_type": "markdown",
      "metadata": {
        "id": "9IkqRieg4G_f"
      },
      "source": [
        "<a name=\"spatial\"></a>\n",
        "## **Step 4: Spatial Interpolation**"
      ]
    },
    {
      "cell_type": "markdown",
      "metadata": {
        "id": "yyQMfj4N3G9z"
      },
      "source": [
        "[Load packages and utility files, if necessary](#loadUtils)\n",
        "\n",
        "[Load aquifer shapefile, if necessary](#loadFiles)\n",
        "\n"
      ]
    },
    {
      "cell_type": "code",
      "metadata": {
        "colab": {
          "resources": {
            "http://localhost:8080/nbextensions/google.colab/files.js": {
              "data": "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",
              "ok": true,
              "headers": [
                [
                  "content-type",
                  "application/javascript"
                ]
              ],
              "status": 200,
              "status_text": ""
            }
          },
          "base_uri": "https://localhost:8080/",
          "height": 106
        },
        "id": "BfBMZ2-_YKun",
        "outputId": "2821f394-a353-4c2a-925d-68abe96ed7a6"
      },
      "source": [
        "#@markdown ### **Run this cell to upload imputed data file (if starting from a new session)**\n",
        "Upload_Files = False #@param {type:\"boolean\"}\n",
        "\n",
        "if Upload_Files == True:\n",
        "  if not os.path.isdir('Datasets'):\n",
        "    !mkdir Datasets\n",
        "  print(\"Upload Well_Data_Imputed pickle file from step 3\\n\")\n",
        "  uploaded = files.upload()\n",
        "  os.rename('/content/'+list(uploaded.keys())[0],'/content/Datasets/'+list(uploaded.keys())[0])\n",
        "else: print(\"If your files are not uploaded in the current session, select the Upload_Files box and re-run the cell.\")"
      ],
      "execution_count": null,
      "outputs": [
        {
          "output_type": "stream",
          "name": "stdout",
          "text": [
            "Upload Well_Data_Imputed pickle file from step 3\n",
            "\n"
          ]
        },
        {
          "output_type": "display_data",
          "data": {
            "text/html": [
              "\n",
              "     <input type=\"file\" id=\"files-3ece0be8-7134-4007-8c54-c0f7fe125e9f\" name=\"files[]\" multiple disabled\n",
              "        style=\"border:none\" />\n",
              "     <output id=\"result-3ece0be8-7134-4007-8c54-c0f7fe125e9f\">\n",
              "      Upload widget is only available when the cell has been executed in the\n",
              "      current browser session. Please rerun this cell to enable.\n",
              "      </output>\n",
              "      <script src=\"/nbextensions/google.colab/files.js\"></script> "
            ],
            "text/plain": [
              "<IPython.core.display.HTML object>"
            ]
          },
          "metadata": {}
        },
        {
          "output_type": "stream",
          "name": "stdout",
          "text": [
            "Saving Well_Data_Imputed.pickle to Well_Data_Imputed.pickle\n"
          ]
        }
      ]
    },
    {
      "cell_type": "code",
      "metadata": {
        "id": "1T4XliO50Z-U"
      },
      "source": [
        "#@markdown ### **Select parameters (or leave defaults) and run this cell to perform spatial interpolation using kriging**\n",
        "\n",
        "data_root = '/content/Datasets/' # Data Locations\n",
        "figures_root = '/content/Figures Spatial' # Location where figures are saved\n",
        "netcdf_filename = 'well_data.nc' # Naming netcdf output\n",
        "\n",
        "#@markdown #### Specify the time interval at which a new raster will be interpolated, in months:\n",
        "Time_Step = 12 #@param {type:\"integer\"}\n",
        "skip_month = Time_Step\n",
        "#@markdown ---\n",
        "\n",
        "#@markdown #### Specify the influence:\n",
        "#@markdown *The influence is a parameter that adjusts the distance within the aquifer from a particular point that affects that point during kriging.*\n",
        "influence = 0.1 #@param {type:\"number\"}\n",
        "\n",
        "#@markdown ---\n",
        "\n",
        "#@markdown #### Specify ONE of the following, or leave all as 'None':\n",
        "\n",
        "#@markdown ##### *Specify resolution of the raster based on number of cells along the x-axis* \n",
        "x_cells =  None#@param {type:\"raw\"}\n",
        "#@markdown ##### *Specify resolution of the raster based on number of cells along the y-axis*\n",
        "y_cells =  None#@param {type:\"raw\"}\n",
        "#@markdown ##### *Specify resolution without reference to number of cells in shape*\n",
        "res = None #@param {type:\"raw\"}\n",
        "for param in [x_cells, y_cells, res]:\n",
        "  if param is not None and param <= 0:\n",
        "    print(\"Error: Make sure your parameter is a number greater than 0 and all non-specified values are 'None'\")\n",
        "\n",
        "# Initiate class creating data and figure folder\n",
        "inter = utils_spatial.krigging_interpolation(data_root, figures_root)\n",
        "\n",
        "# Load complete pickle file\n",
        "well_data_dict = inter.read_pickle('Well_Data_Imputed', data_root)\n",
        "well_data = well_data_dict['Data'].dropna() # Unpack Time series Drop NAs\n",
        "x_coordinates = well_data_dict['Location']['Longitude'] # Unpack Longitude of wells\n",
        "y_coordinates = well_data_dict['Location']['Latitude'] # Unpack Latitude of wells\n",
        "\n",
        "# Load respective aquifer shape file\n",
        "polygon = inter.Shape_Boundary('/content/Aquifer_Shapes/' + aqFile[:-4] + '.shp')\n",
        "\n",
        "# Line creates grid and mask based on the bounding box of the aquifer\n",
        "# Grid is created based on resolution determined by x_cells, y_cells or res\n",
        "# where priority is x_cells > y_cells > res. \n",
        "grid_long, grid_lat = inter.create_grid_polygon(polygon, x_cells = x_cells, y_cells = y_cells, res = res)\n",
        "\n",
        "# Extract every nth month of data\n",
        "data_subset = inter.extract_dataframe_data(well_data, skip_month)\n",
        "\n",
        "# This sets up a netcdf file to store each raster in.\n",
        "file_nc, raster_data = inter.netcdf_setup(grid_long, grid_lat, data_subset.index, netcdf_filename)\n",
        "\n",
        "# Loop through each date, create variogram for time step create krig map.\n",
        "# Inserts the grid at the timestep within the netCDF.\n",
        "for i, date in enumerate(data_subset.index):\n",
        "    # Filter values associated with step\n",
        "    values = data_subset.loc[data_subset.index[i]].values\n",
        "\n",
        "    # fit the model variogram to the experimental variogram\n",
        "    var_fitted = inter.fit_model_var(x_coordinates, y_coordinates, values, influence = influence)  # fit variogram\n",
        "                                                                            # influence, try 1/8, 1/4, 1/2, (how far from the point it is influenced by)\n",
        "    # when kriging, you need a variogram. The subroutine has a function to plot\n",
        "    # the variogram and the experimental. Variable 'influence' is the percentage\n",
        "    # of the total aquifer length where wells are correlated. set 0.125 - 0.875\n",
        "\n",
        "    krig_map = inter.krig_field(var_fitted, x_coordinates, y_coordinates, values, grid_long, grid_lat, date) # krig data\n",
        "\n",
        "    # krig_map.field provides the 2D array of values\n",
        "    # this function does all the spatial interpolation using the variogram from above.\n",
        "    # Removes all data outside of boundaries of shapefile.\n",
        "    # write data to netcdf file\n",
        "    raster_data[i,:,:] = krig_map.field  # add kriged field to netcdf file at time_step\n",
        "\n",
        "file_nc.close()\n",
        "\n",
        "print('NetCDF Created.')"
      ],
      "execution_count": null,
      "outputs": []
    },
    {
      "cell_type": "code",
      "metadata": {
        "colab": {
          "base_uri": "https://localhost:8080/",
          "height": 17
        },
        "id": "Avt5YhkaXUsa",
        "outputId": "cc5ff594-c76f-424e-81bb-59cba03cc98e"
      },
      "source": [
        "#@markdown ### **(Optional) Run this cell to download the interpolated well data NetCDF file to local machine**\n",
        "files.download('/content/Datasets/well_data.nc')"
      ],
      "execution_count": null,
      "outputs": [
        {
          "output_type": "display_data",
          "data": {
            "application/javascript": [
              "\n",
              "    async function download(id, filename, size) {\n",
              "      if (!google.colab.kernel.accessAllowed) {\n",
              "        return;\n",
              "      }\n",
              "      const div = document.createElement('div');\n",
              "      const label = document.createElement('label');\n",
              "      label.textContent = `Downloading \"${filename}\": `;\n",
              "      div.appendChild(label);\n",
              "      const progress = document.createElement('progress');\n",
              "      progress.max = size;\n",
              "      div.appendChild(progress);\n",
              "      document.body.appendChild(div);\n",
              "\n",
              "      const buffers = [];\n",
              "      let downloaded = 0;\n",
              "\n",
              "      const channel = await google.colab.kernel.comms.open(id);\n",
              "      // Send a message to notify the kernel that we're ready.\n",
              "      channel.send({})\n",
              "\n",
              "      for await (const message of channel.messages) {\n",
              "        // Send a message to notify the kernel that we're ready.\n",
              "        channel.send({})\n",
              "        if (message.buffers) {\n",
              "          for (const buffer of message.buffers) {\n",
              "            buffers.push(buffer);\n",
              "            downloaded += buffer.byteLength;\n",
              "            progress.value = downloaded;\n",
              "          }\n",
              "        }\n",
              "      }\n",
              "      const blob = new Blob(buffers, {type: 'application/binary'});\n",
              "      const a = document.createElement('a');\n",
              "      a.href = window.URL.createObjectURL(blob);\n",
              "      a.download = filename;\n",
              "      div.appendChild(a);\n",
              "      a.click();\n",
              "      div.remove();\n",
              "    }\n",
              "  "
            ],
            "text/plain": [
              "<IPython.core.display.Javascript object>"
            ]
          },
          "metadata": {}
        },
        {
          "output_type": "display_data",
          "data": {
            "application/javascript": [
              "download(\"download_93106dba-5966-42e7-9dba-46f74b0af62d\", \"well_data.nc\", 1299192)"
            ],
            "text/plain": [
              "<IPython.core.display.Javascript object>"
            ]
          },
          "metadata": {}
        }
      ]
    },
    {
      "cell_type": "markdown",
      "metadata": {
        "id": "pleV65b05a9P"
      },
      "source": [
        "---"
      ]
    },
    {
      "cell_type": "markdown",
      "metadata": {
        "id": "VYhQR3TCNEIN"
      },
      "source": [
        "<a name=\"storage\"></a>\n",
        "## **Step 5: Calculate Storage Depletion Curve**"
      ]
    },
    {
      "cell_type": "markdown",
      "metadata": {
        "id": "TSn3DTt2d3CD"
      },
      "source": [
        "[Load packages and utility files, if necessary](#loadUtils)"
      ]
    },
    {
      "cell_type": "code",
      "metadata": {
        "colab": {
          "resources": {
            "http://localhost:8080/nbextensions/google.colab/files.js": {
              "data": "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",
              "ok": true,
              "headers": [
                [
                  "content-type",
                  "application/javascript"
                ]
              ],
              "status": 200,
              "status_text": ""
            }
          },
          "base_uri": "https://localhost:8080/",
          "height": 106
        },
        "id": "zt1la5IEdxkX",
        "outputId": "27813ded-cbd4-4229-8e56-600504832993"
      },
      "source": [
        "#@markdown ### **Run this cell to upload imputed data file (if starting from a new session)**\n",
        "Upload_File = False #@param {type:\"boolean\"}\n",
        "\n",
        "if Upload_File == True:\n",
        "  if not os.path.isdir('Datasets'):\n",
        "    !mkdir Datasets\n",
        "  print(\"Upload Well_Data.nc NetCDF file from step 4\\n\")\n",
        "  uploaded = files.upload()\n",
        "  raster_file = list(uploaded.keys())[0]\n",
        "  os.rename('/content/'+raster_file,'/content/Datasets/'+raster_file)\n",
        "else: \n",
        "  raster_file ='well_data.nc'\n",
        "  print(\"If your file is not uploaded in the current session, check the Upload_File box on the right side of the cell and re-run the cell. Otherwise, continue to next cell.\")"
      ],
      "execution_count": null,
      "outputs": [
        {
          "output_type": "stream",
          "name": "stdout",
          "text": [
            "Upload Well_Data.nc NetCDF file from step 4\n",
            "\n"
          ]
        },
        {
          "output_type": "display_data",
          "data": {
            "text/html": [
              "\n",
              "     <input type=\"file\" id=\"files-784525bb-5971-4ac7-a0cf-d008cef75213\" name=\"files[]\" multiple disabled\n",
              "        style=\"border:none\" />\n",
              "     <output id=\"result-784525bb-5971-4ac7-a0cf-d008cef75213\">\n",
              "      Upload widget is only available when the cell has been executed in the\n",
              "      current browser session. Please rerun this cell to enable.\n",
              "      </output>\n",
              "      <script src=\"/nbextensions/google.colab/files.js\"></script> "
            ],
            "text/plain": [
              "<IPython.core.display.HTML object>"
            ]
          },
          "metadata": {}
        },
        {
          "output_type": "stream",
          "name": "stdout",
          "text": [
            "Saving well_data_12mon.nc to well_data_12mon.nc\n"
          ]
        }
      ]
    },
    {
      "cell_type": "code",
      "metadata": {
        "colab": {
          "base_uri": "https://localhost:8080/",
          "height": 316
        },
        "id": "BbV_LKYZNd5O",
        "outputId": "8772d98f-3435-4c49-8158-94935e5083b2"
      },
      "source": [
        "#@markdown ### **Run this cell to calculate storage depletion curve**\n",
        "#@markdown *Specify the storage coefficient of the aquifer*\n",
        "storage_coefficient = 0.07 #@param {type:\"number\"}\n",
        "\n",
        "imputed_raster = nc.Dataset('/content/Datasets/'+raster_file)\n",
        "\n",
        "# Calculate the area of the aquifer\n",
        "yRes = abs(round(imputed_raster['lat'][0] - imputed_raster['lat'][1], 7)) # this assumes all cells will be the same size in one dimension (all cells will have same x-component)\n",
        "xRes = abs(round(imputed_raster['lon'][0] - imputed_raster['lon'][1], 7))\n",
        "area = 0\n",
        "# Loop through each y row\n",
        "for y in range(imputed_raster.dimensions['lat'].size):\n",
        "  # Define the upper and lower bounds of the row\n",
        "  mylatmax = math.radians(imputed_raster['lat'][y] + (yRes/2))\n",
        "  mylatmin = math.radians(imputed_raster['lat'][y] - (yRes/2))\n",
        "\n",
        "  # Count how many cells in each row are in aquifer (i.e. and, therefore, not nan)\n",
        "  xCount = 0\n",
        "  for x in range(imputed_raster.dimensions['lon'].size):\n",
        "    if not math.isnan(imputed_raster['tsvalue'][0, y, x]):\n",
        "      xCount += 1\n",
        "  \n",
        "  # Area calculated based on the equation found here: https://www.pmel.noaa.gov/maillists/tmap/ferret_users/fu_2004/msg00023.html\n",
        "  #     (pi/180) * R^2 * |lon1-lon2| * |sin(lat1)-sin(lat2)| \n",
        "  area += (3958.8*5280)**2 * math.radians(xRes * xCount) * abs((math.sin(mylatmin) - math.sin(mylatmax)))\n",
        "print(\"The area of the aquifer is %.1f million square feet.\\n\" %(area/10**6))\n",
        "\n",
        "# Calculate total drawdown volume at each time step\n",
        "drawdown_grid = np.zeros((imputed_raster.dimensions['time'].size, imputed_raster.dimensions['lat'].size, imputed_raster.dimensions['lon'].size))\n",
        "drawdown_volume = np.zeros(imputed_raster.dimensions['time'].size)\n",
        "for t in range(imputed_raster.dimensions['time'].size):\n",
        "  drawdown_grid[t, :, :] = imputed_raster['tsvalue'][t, :, :] - imputed_raster['tsvalue'][0, :, :] #Calculate drawdown at time t by subtracting original WTE at time 0\n",
        "  drawdown_volume[t] = np.nanmean(drawdown_grid[t, :, :] * storage_coefficient * area) # Average drawdown across entire aquifer x storage_coefficient x area of aquifer\n",
        "\n",
        "# Plot storage depletion curve\n",
        "x_data = pd.Series(imputed_raster['time'][:], dtype=int).apply(lambda x: datetime.datetime.fromordinal(x)) # Convert from days since 0001-01-01 00:00:00\n",
        "y_data = drawdown_volume/(43560*10**6) # Convert to million ac-ft\n",
        "plt.plot(x_data,y_data)\n",
        "plt.xlabel(\"Year\")\n",
        "plt.ylabel(\"Drawdown Volume (million ac-ft)\")\n",
        "plt.show()"
      ],
      "execution_count": null,
      "outputs": [
        {
          "output_type": "stream",
          "name": "stdout",
          "text": [
            "The area of the aquifer is 572207.2 million square feet.\n",
            "\n"
          ]
        },
        {
          "output_type": "display_data",
          "data": {
            "image/png": "[encoded data removed]",
            "text/plain": [
              "<Figure size 432x288 with 1 Axes>"
            ]
          },
          "metadata": {
            "needs_background": "light"
          }
        }
      ]
    },
    {
      "cell_type": "markdown",
      "metadata": {
        "id": "xYfqyE6if23s"
      },
      "source": [
        "### <font color='dimgray'>Compare to GRACE</font>"
      ]
    },
    {
      "cell_type": "code",
      "metadata": {
        "colab": {
          "resources": {
            "http://localhost:8080/nbextensions/google.colab/files.js": {
              "data": "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",
              "ok": true,
              "headers": [
                [
                  "content-type",
                  "application/javascript"
                ]
              ],
              "status": 200,
              "status_text": ""
            }
          },
          "base_uri": "https://localhost:8080/",
          "height": 72
        },
        "id": "-Foxr9roNkeW",
        "outputId": "21a89a8c-b67d-4c49-c2d3-eb4b5f6a1985"
      },
      "source": [
        "#@markdown ### **Run this cell to upload a GRACE csv file**\n",
        "\n",
        "uploaded = files.upload()\n",
        "wellsFile = ''.join(uploaded)\n",
        "GRACE = pd.read_csv(wellsFile)"
      ],
      "execution_count": null,
      "outputs": [
        {
          "output_type": "display_data",
          "data": {
            "text/html": [
              "\n",
              "     <input type=\"file\" id=\"files-0b0a9582-9552-4fef-9252-582b03a38370\" name=\"files[]\" multiple disabled\n",
              "        style=\"border:none\" />\n",
              "     <output id=\"result-0b0a9582-9552-4fef-9252-582b03a38370\">\n",
              "      Upload widget is only available when the cell has been executed in the\n",
              "      current browser session. Please rerun this cell to enable.\n",
              "      </output>\n",
              "      <script src=\"/nbextensions/google.colab/files.js\"></script> "
            ],
            "text/plain": [
              "<IPython.core.display.HTML object>"
            ]
          },
          "metadata": {}
        },
        {
          "output_type": "stream",
          "name": "stdout",
          "text": [
            "Saving central-valley-regional-average-water-storage-anomaly.csv to central-valley-regional-average-water-storage-anomaly.csv\n"
          ]
        }
      ]
    },
    {
      "cell_type": "code",
      "metadata": {
        "colab": {
          "base_uri": "https://localhost:8080/",
          "height": 279
        },
        "id": "HX9rOmBlNm-l",
        "outputId": "78a930fd-f6e8-4733-850d-ebdea6b05cca"
      },
      "source": [
        "#@markdown ### **Specify paramters and run the cell to create comparison plot of GRACE and imputed data**\n",
        "#@markdown *Specify system of measurement for imputed data*\n",
        "units = \"English\" #@param [\"English\", \"Metric\"]\n",
        "unit_coefficient = 1\n",
        "if units == \"English\": unit_coefficient = 0.3048\n",
        "#@markdown *Specify what year to start plotting the imputed data*\n",
        "#start_step = 500\n",
        "start_year = 2001 #@param {type:\"integer\"}\n",
        "try: \n",
        "  start_index = x_data[x_data.dt.year == start_year].index[0] # index of 1st item from start_year\n",
        "except IndexError: \n",
        "  print('Your file may not have data in that year. Try a different start year.')\n",
        "  sys.exit()\n",
        "\n",
        "# Set up time series data from imputed drawdown volume and GRACE\n",
        "x1 = x_data[start_index:]\n",
        "y1 = ( drawdown_volume[start_index:] - drawdown_volume[start_index] ) / area * unit_coefficient * 100 # water level equivalent in cm\n",
        "x2 = GRACE['Date'].apply(lambda x: datetime.datetime.fromtimestamp(x/1000))  # milliseconds since epoch converted to date\n",
        "y2 = GRACE['Groundwater Storage (Calculated)'][0:] - GRACE['Groundwater Storage (Calculated)'][0]  # water level equivalent in cm\n",
        "\n",
        "plt.plot(x1,y1, label=\"Imputed\")\n",
        "plt.plot(x2,y2, label=\"GRACE\")\n",
        "plt.xlabel(\"Year\")\n",
        "plt.ylabel(\"Liquid Water Equivalent Thickness (cm)\")\n",
        "plt.legend()\n",
        "plt.savefig('GRACE_comp_'+str(storage_coefficient)+'.png')\n",
        "plt.show()"
      ],
      "execution_count": null,
      "outputs": [
        {
          "output_type": "display_data",
          "data": {
            "image/png": "[encoded data removed]",
            "text/plain": [
              "<Figure size 432x288 with 1 Axes>"
            ]
          },
          "metadata": {
            "needs_background": "light"
          }
        }
      ]
    },
    {
      "cell_type": "markdown",
      "metadata": {
        "id": "VwyeKokStQIB"
      },
      "source": [
        "## **Retrieve Files**\n",
        "1. Check the 'Files' panel on the left for your new files. \n",
        "2. Go to the 'Datasets' folder to find the well_data.nc, Well_Data_Imputed.pickle, and 06_Error_Metrics.h5 files. \n",
        "3. Click the three dots next to each file to download it.\n",
        "*(Hit the refresh button if you do not see the new file initially)*\n",
        "\n",
        "![files_panel.png](data:image/png;base64,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)![Datasets_folder.png](data:image/png;base64,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)![download.png](data:image/png;base64,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)"
      ]
    },
    {
      "cell_type": "markdown",
      "metadata": {
        "id": "6yuWxQu8aXuf"
      },
      "source": [
        "---"
      ]
    },
    {
      "cell_type": "markdown",
      "metadata": {
        "id": "KeFyqr6uaY2m"
      },
      "source": [
        "---"
      ]
    },
    {
      "cell_type": "markdown",
      "metadata": {
        "id": "xKxfNqeJaZo0"
      },
      "source": [
        "---"
      ]
    },
    {
      "cell_type": "markdown",
      "metadata": {
        "id": "TfLVqRxeaafs"
      },
      "source": [
        "## **Appendix**"
      ]
    },
    {
      "cell_type": "code",
      "metadata": {
        "colab": {
          "base_uri": "https://localhost:8080/",
          "height": 17
        },
        "id": "J1ubxiqhafz8",
        "outputId": "44587490-0006-448c-b0c4-00cd629ccebd"
      },
      "source": [
        "#@markdown <a name=\"download\"></a>\n",
        "#@markdown ### **Allow Colab to Download Multiple Files**\n",
        "#@markdown In order to download multiple files at once in Colab, you must allow Colab to do so. \n",
        "#@markdown 1. You can run this cell, which will download some small sample data files. \n",
        "#@markdown 2. A popup from your browser will appear, asking for permission to download multiple files. You only have to do this once per session. \n",
        "#@markdown 3. Afterwards, you can delete the downloaded files.\n",
        "\n",
        "sample_data = ['/content/sample_data/california_housing_test.csv', \n",
        "               '/content/sample_data/california_housing_train.csv', \n",
        "               '/content/sample_data/anscombe.json']\n",
        "for file in sample_data:\n",
        "  files.download(file)\n"
      ],
      "execution_count": null,
      "outputs": [
        {
          "output_type": "display_data",
          "data": {
            "application/javascript": [
              "\n",
              "    async function download(id, filename, size) {\n",
              "      if (!google.colab.kernel.accessAllowed) {\n",
              "        return;\n",
              "      }\n",
              "      const div = document.createElement('div');\n",
              "      const label = document.createElement('label');\n",
              "      label.textContent = `Downloading \"${filename}\": `;\n",
              "      div.appendChild(label);\n",
              "      const progress = document.createElement('progress');\n",
              "      progress.max = size;\n",
              "      div.appendChild(progress);\n",
              "      document.body.appendChild(div);\n",
              "\n",
              "      const buffers = [];\n",
              "      let downloaded = 0;\n",
              "\n",
              "      const channel = await google.colab.kernel.comms.open(id);\n",
              "      // Send a message to notify the kernel that we're ready.\n",
              "      channel.send({})\n",
              "\n",
              "      for await (const message of channel.messages) {\n",
              "        // Send a message to notify the kernel that we're ready.\n",
              "        channel.send({})\n",
              "        if (message.buffers) {\n",
              "          for (const buffer of message.buffers) {\n",
              "            buffers.push(buffer);\n",
              "            downloaded += buffer.byteLength;\n",
              "            progress.value = downloaded;\n",
              "          }\n",
              "        }\n",
              "      }\n",
              "      const blob = new Blob(buffers, {type: 'application/binary'});\n",
              "      const a = document.createElement('a');\n",
              "      a.href = window.URL.createObjectURL(blob);\n",
              "      a.download = filename;\n",
              "      div.appendChild(a);\n",
              "      a.click();\n",
              "      div.remove();\n",
              "    }\n",
              "  "
            ],
            "text/plain": [
              "<IPython.core.display.Javascript object>"
            ]
          },
          "metadata": {}
        },
        {
          "output_type": "display_data",
          "data": {
            "application/javascript": [
              "download(\"download_4e63c5e2-116a-43bb-82d9-b62e456d7fe3\", \"california_housing_test.csv\", 301141)"
            ],
            "text/plain": [
              "<IPython.core.display.Javascript object>"
            ]
          },
          "metadata": {}
        },
        {
          "output_type": "display_data",
          "data": {
            "application/javascript": [
              "\n",
              "    async function download(id, filename, size) {\n",
              "      if (!google.colab.kernel.accessAllowed) {\n",
              "        return;\n",
              "      }\n",
              "      const div = document.createElement('div');\n",
              "      const label = document.createElement('label');\n",
              "      label.textContent = `Downloading \"${filename}\": `;\n",
              "      div.appendChild(label);\n",
              "      const progress = document.createElement('progress');\n",
              "      progress.max = size;\n",
              "      div.appendChild(progress);\n",
              "      document.body.appendChild(div);\n",
              "\n",
              "      const buffers = [];\n",
              "      let downloaded = 0;\n",
              "\n",
              "      const channel = await google.colab.kernel.comms.open(id);\n",
              "      // Send a message to notify the kernel that we're ready.\n",
              "      channel.send({})\n",
              "\n",
              "      for await (const message of channel.messages) {\n",
              "        // Send a message to notify the kernel that we're ready.\n",
              "        channel.send({})\n",
              "        if (message.buffers) {\n",
              "          for (const buffer of message.buffers) {\n",
              "            buffers.push(buffer);\n",
              "            downloaded += buffer.byteLength;\n",
              "            progress.value = downloaded;\n",
              "          }\n",
              "        }\n",
              "      }\n",
              "      const blob = new Blob(buffers, {type: 'application/binary'});\n",
              "      const a = document.createElement('a');\n",
              "      a.href = window.URL.createObjectURL(blob);\n",
              "      a.download = filename;\n",
              "      div.appendChild(a);\n",
              "      a.click();\n",
              "      div.remove();\n",
              "    }\n",
              "  "
            ],
            "text/plain": [
              "<IPython.core.display.Javascript object>"
            ]
          },
          "metadata": {}
        },
        {
          "output_type": "display_data",
          "data": {
            "application/javascript": [
              "download(\"download_9636eafd-05f0-45a4-9abd-7cc7dbfd5113\", \"california_housing_train.csv\", 1706430)"
            ],
            "text/plain": [
              "<IPython.core.display.Javascript object>"
            ]
          },
          "metadata": {}
        },
        {
          "output_type": "display_data",
          "data": {
            "application/javascript": [
              "\n",
              "    async function download(id, filename, size) {\n",
              "      if (!google.colab.kernel.accessAllowed) {\n",
              "        return;\n",
              "      }\n",
              "      const div = document.createElement('div');\n",
              "      const label = document.createElement('label');\n",
              "      label.textContent = `Downloading \"${filename}\": `;\n",
              "      div.appendChild(label);\n",
              "      const progress = document.createElement('progress');\n",
              "      progress.max = size;\n",
              "      div.appendChild(progress);\n",
              "      document.body.appendChild(div);\n",
              "\n",
              "      const buffers = [];\n",
              "      let downloaded = 0;\n",
              "\n",
              "      const channel = await google.colab.kernel.comms.open(id);\n",
              "      // Send a message to notify the kernel that we're ready.\n",
              "      channel.send({})\n",
              "\n",
              "      for await (const message of channel.messages) {\n",
              "        // Send a message to notify the kernel that we're ready.\n",
              "        channel.send({})\n",
              "        if (message.buffers) {\n",
              "          for (const buffer of message.buffers) {\n",
              "            buffers.push(buffer);\n",
              "            downloaded += buffer.byteLength;\n",
              "            progress.value = downloaded;\n",
              "          }\n",
              "        }\n",
              "      }\n",
              "      const blob = new Blob(buffers, {type: 'application/binary'});\n",
              "      const a = document.createElement('a');\n",
              "      a.href = window.URL.createObjectURL(blob);\n",
              "      a.download = filename;\n",
              "      div.appendChild(a);\n",
              "      a.click();\n",
              "      div.remove();\n",
              "    }\n",
              "  "
            ],
            "text/plain": [
              "<IPython.core.display.Javascript object>"
            ]
          },
          "metadata": {}
        },
        {
          "output_type": "display_data",
          "data": {
            "application/javascript": [
              "download(\"download_ab2517ce-b84d-4dd6-a2ec-0c6fced13292\", \"mnist_test.csv\", 18289443)"
            ],
            "text/plain": [
              "<IPython.core.display.Javascript object>"
            ]
          },
          "metadata": {}
        }
      ]
    }
  ]
}